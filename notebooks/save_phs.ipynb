{
 "cells": [
  {
   "cell_type": "code",
   "id": "initial_id",
   "metadata": {
    "collapsed": true,
    "ExecuteTime": {
     "end_time": "2024-10-31T20:04:27.397838Z",
     "start_time": "2024-10-31T20:04:27.364777Z"
    }
   },
   "source": [
    "from dotenv import load_dotenv\n",
    "load_dotenv()"
   ],
   "outputs": [
    {
     "data": {
      "text/plain": [
       "True"
      ]
     },
     "execution_count": 1,
     "metadata": {},
     "output_type": "execute_result"
    }
   ],
   "execution_count": 1
  },
  {
   "metadata": {
    "ExecuteTime": {
     "end_time": "2024-10-31T20:04:33.952106Z",
     "start_time": "2024-10-31T20:04:27.397838Z"
    }
   },
   "cell_type": "code",
   "source": [
    "from src.data.loader import DataLoader\n",
    "data_loader = DataLoader()"
   ],
   "id": "4155344abd7f22ab",
   "outputs": [],
   "execution_count": 2
  },
  {
   "metadata": {
    "ExecuteTime": {
     "end_time": "2024-10-31T20:08:19.820206Z",
     "start_time": "2024-10-31T20:04:35.106850Z"
    }
   },
   "cell_type": "code",
   "source": "data_loader.load_and_save_player_hand_stats().info()\n",
   "id": "6c1e78f509869d02",
   "outputs": [
    {
     "name": "stdout",
     "output_type": "stream",
     "text": [
      "<class 'pandas.core.frame.DataFrame'>\n",
      "Int64Index: 2216200 entries, 0 to 2216199\n",
      "Columns: 397 entries, id to river_total_bet_amount_bb\n",
      "dtypes: bool(148), category(77), datetime64[ns, UTC](1), float16(37), float32(115), float64(5), int64(1), int8(13)\n",
      "memory usage: 1.8 GB\n"
     ]
    }
   ],
   "execution_count": 3
  },
  {
   "metadata": {
    "ExecuteTime": {
     "end_time": "2024-10-31T20:11:59.744305Z",
     "start_time": "2024-10-31T20:08:20.307794Z"
    }
   },
   "cell_type": "code",
   "source": "data_loader.load_and_save_villain_hands().info()\n",
   "id": "f528e27505e1db9e",
   "outputs": [
    {
     "name": "stdout",
     "output_type": "stream",
     "text": [
      "<class 'pandas.core.frame.DataFrame'>\n",
      "Int64Index: 1844306 entries, 1 to 2216199\n",
      "Columns: 397 entries, id to river_total_bet_amount_bb\n",
      "dtypes: bool(148), category(77), datetime64[ns, UTC](1), float16(37), float32(115), float64(5), int64(1), int8(13)\n",
      "memory usage: 1.5 GB\n"
     ]
    }
   ],
   "execution_count": 4
  },
  {
   "metadata": {
    "ExecuteTime": {
     "end_time": "2024-10-31T20:16:00.728714Z",
     "start_time": "2024-10-31T20:11:59.823211Z"
    }
   },
   "cell_type": "code",
   "source": "data_loader.load_and_save_showdown_hands().info()\n",
   "id": "4e36c7623f58a232",
   "outputs": [
    {
     "name": "stdout",
     "output_type": "stream",
     "text": [
      "<class 'pandas.core.frame.DataFrame'>\n",
      "Int64Index: 261674 entries, 7 to 2216198\n",
      "Columns: 397 entries, id to river_total_bet_amount_bb\n",
      "dtypes: bool(148), category(77), datetime64[ns, UTC](1), float16(37), float32(115), float64(5), int64(1), int8(13)\n",
      "memory usage: 215.4 MB\n"
     ]
    }
   ],
   "execution_count": 5
  },
  {
   "metadata": {
    "ExecuteTime": {
     "end_time": "2024-10-31T20:20:40.683045Z",
     "start_time": "2024-10-31T20:16:00.915474Z"
    }
   },
   "cell_type": "code",
   "source": "data_loader.load_and_save_villain_showdown_hands().info()\n",
   "id": "50328f18f113bd7e",
   "outputs": [
    {
     "name": "stdout",
     "output_type": "stream",
     "text": [
      "<class 'pandas.core.frame.DataFrame'>\n",
      "Int64Index: 219034 entries, 7 to 2216197\n",
      "Columns: 397 entries, id to river_total_bet_amount_bb\n",
      "dtypes: bool(148), category(77), datetime64[ns, UTC](1), float16(37), float32(115), float64(5), int64(1), int8(13)\n",
      "memory usage: 180.9 MB\n"
     ]
    }
   ],
   "execution_count": 6
  }
 ],
 "metadata": {
  "kernelspec": {
   "display_name": "Python 3",
   "language": "python",
   "name": "python3"
  },
  "language_info": {
   "codemirror_mode": {
    "name": "ipython",
    "version": 2
   },
   "file_extension": ".py",
   "mimetype": "text/x-python",
   "name": "python",
   "nbconvert_exporter": "python",
   "pygments_lexer": "ipython2",
   "version": "2.7.6"
  }
 },
 "nbformat": 4,
 "nbformat_minor": 5
}
