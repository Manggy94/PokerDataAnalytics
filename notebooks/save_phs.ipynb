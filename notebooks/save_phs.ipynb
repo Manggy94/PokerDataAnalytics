{
 "cells": [
  {
   "cell_type": "code",
   "id": "initial_id",
   "metadata": {
    "collapsed": true,
    "ExecuteTime": {
     "end_time": "2024-11-14T15:27:04.366181Z",
     "start_time": "2024-11-14T15:27:04.334528Z"
    }
   },
   "source": [
    "from dotenv import load_dotenv\n",
    "load_dotenv()"
   ],
   "outputs": [
    {
     "data": {
      "text/plain": [
       "True"
      ]
     },
     "execution_count": 1,
     "metadata": {},
     "output_type": "execute_result"
    }
   ],
   "execution_count": 1
  },
  {
   "metadata": {
    "ExecuteTime": {
     "end_time": "2024-11-14T15:27:06.922009Z",
     "start_time": "2024-11-14T15:27:04.444412Z"
    }
   },
   "cell_type": "code",
   "source": [
    "from src.data.loader import DataLoader\n",
    "data_loader = DataLoader()"
   ],
   "id": "4155344abd7f22ab",
   "outputs": [],
   "execution_count": 2
  },
  {
   "metadata": {
    "ExecuteTime": {
     "end_time": "2024-11-14T15:31:20.687125Z",
     "start_time": "2024-11-14T15:27:07.578596Z"
    }
   },
   "cell_type": "code",
   "source": "data_loader.load_and_save_player_hand_stats().info()\n",
   "id": "6c1e78f509869d02",
   "outputs": [
    {
     "name": "stdout",
     "output_type": "stream",
     "text": [
      "<class 'pandas.core.frame.DataFrame'>\n",
      "Int64Index: 2251968 entries, 0 to 2251967\n",
      "Columns: 397 entries, id to river_total_bet_amount_bb\n",
      "dtypes: bool(148), category(77), datetime64[ns, UTC](1), float16(37), float32(115), float64(5), int64(1), int8(13)\n",
      "memory usage: 1.8 GB\n"
     ]
    }
   ],
   "execution_count": 3
  },
  {
   "metadata": {
    "ExecuteTime": {
     "end_time": "2024-11-14T15:35:15.015712Z",
     "start_time": "2024-11-14T15:31:21.429074Z"
    }
   },
   "cell_type": "code",
   "source": "data_loader.load_and_save_villain_hands().info()\n",
   "id": "f528e27505e1db9e",
   "outputs": [
    {
     "name": "stdout",
     "output_type": "stream",
     "text": [
      "<class 'pandas.core.frame.DataFrame'>\n",
      "Int64Index: 1873848 entries, 1 to 2251967\n",
      "Columns: 397 entries, id to river_total_bet_amount_bb\n",
      "dtypes: bool(148), category(77), datetime64[ns, UTC](1), float16(37), float32(115), float64(5), int64(1), int8(13)\n",
      "memory usage: 1.5 GB\n"
     ]
    }
   ],
   "execution_count": 4
  },
  {
   "metadata": {
    "ExecuteTime": {
     "end_time": "2024-11-14T15:38:57.709024Z",
     "start_time": "2024-11-14T15:35:15.079882Z"
    }
   },
   "cell_type": "code",
   "source": "data_loader.load_and_save_showdown_hands().info()\n",
   "id": "4e36c7623f58a232",
   "outputs": [
    {
     "name": "stdout",
     "output_type": "stream",
     "text": [
      "<class 'pandas.core.frame.DataFrame'>\n",
      "Int64Index: 265488 entries, 7 to 2251966\n",
      "Columns: 397 entries, id to river_total_bet_amount_bb\n",
      "dtypes: bool(148), category(77), datetime64[ns, UTC](1), float16(37), float32(115), float64(5), int64(1), int8(13)\n",
      "memory usage: 218.5 MB\n"
     ]
    }
   ],
   "execution_count": 5
  },
  {
   "metadata": {
    "ExecuteTime": {
     "end_time": "2024-11-14T15:43:07.607870Z",
     "start_time": "2024-11-14T15:38:58.191209Z"
    }
   },
   "cell_type": "code",
   "source": "data_loader.load_and_save_villain_showdown_hands().info()\n",
   "id": "50328f18f113bd7e",
   "outputs": [
    {
     "name": "stdout",
     "output_type": "stream",
     "text": [
      "<class 'pandas.core.frame.DataFrame'>\n",
      "Int64Index: 222334 entries, 7 to 2251965\n",
      "Columns: 397 entries, id to river_total_bet_amount_bb\n",
      "dtypes: bool(148), category(77), datetime64[ns, UTC](1), float16(37), float32(115), float64(5), int64(1), int8(13)\n",
      "memory usage: 183.6 MB\n"
     ]
    }
   ],
   "execution_count": 6
  },
  {
   "metadata": {
    "ExecuteTime": {
     "end_time": "2024-11-14T15:46:53.092Z",
     "start_time": "2024-11-14T15:43:08.029734Z"
    }
   },
   "cell_type": "code",
   "source": "data_loader.load_and_save_revealed_hands().info()",
   "id": "b9a3d1e95bf21d15",
   "outputs": [
    {
     "name": "stdout",
     "output_type": "stream",
     "text": [
      "<class 'pandas.core.frame.DataFrame'>\n",
      "Int64Index: 600267 entries, 0 to 2251966\n",
      "Columns: 397 entries, id to river_total_bet_amount_bb\n",
      "dtypes: bool(148), category(77), datetime64[ns, UTC](1), float16(37), float32(115), float64(5), int64(1), int8(13)\n",
      "memory usage: 489.6 MB\n"
     ]
    }
   ],
   "execution_count": 7
  }
 ],
 "metadata": {
  "kernelspec": {
   "display_name": "Python 3",
   "language": "python",
   "name": "python3"
  },
  "language_info": {
   "codemirror_mode": {
    "name": "ipython",
    "version": 2
   },
   "file_extension": ".py",
   "mimetype": "text/x-python",
   "name": "python",
   "nbconvert_exporter": "python",
   "pygments_lexer": "ipython2",
   "version": "2.7.6"
  }
 },
 "nbformat": 4,
 "nbformat_minor": 5
}
