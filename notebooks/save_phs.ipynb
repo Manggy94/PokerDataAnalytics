{
 "cells": [
  {
   "cell_type": "code",
   "id": "initial_id",
   "metadata": {
    "collapsed": true,
    "ExecuteTime": {
     "end_time": "2024-10-27T00:37:05.912288Z",
     "start_time": "2024-10-27T00:37:05.880623Z"
    }
   },
   "source": [
    "from pickle import GLOBAL\n",
    "\n",
    "from dotenv import load_dotenv\n",
    "load_dotenv()"
   ],
   "outputs": [
    {
     "data": {
      "text/plain": [
       "True"
      ]
     },
     "execution_count": 1,
     "metadata": {},
     "output_type": "execute_result"
    }
   ],
   "execution_count": 1
  },
  {
   "metadata": {
    "ExecuteTime": {
     "end_time": "2024-10-27T00:54:30.799708Z",
     "start_time": "2024-10-27T00:40:14.109001Z"
    }
   },
   "cell_type": "code",
   "source": [
    "from src.data.loader import DataLoader\n",
    "data_loader = DataLoader()\n",
    "data_loader.load_and_save_player_hand_stats()\n",
    "data_loader.load_and_save_villain_hands()\n",
    "data_loader.load_and_save_showdown_hands()\n",
    "data_loader.load_and_save_villain_showdown_hands()"
   ],
   "id": "4155344abd7f22ab",
   "outputs": [],
   "execution_count": 3
  }
 ],
 "metadata": {
  "kernelspec": {
   "display_name": "Python 3",
   "language": "python",
   "name": "python3"
  },
  "language_info": {
   "codemirror_mode": {
    "name": "ipython",
    "version": 2
   },
   "file_extension": ".py",
   "mimetype": "text/x-python",
   "name": "python",
   "nbconvert_exporter": "python",
   "pygments_lexer": "ipython2",
   "version": "2.7.6"
  }
 },
 "nbformat": 4,
 "nbformat_minor": 5
}
