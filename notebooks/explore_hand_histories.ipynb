{
 "cells": [
  {
   "metadata": {
    "ExecuteTime": {
     "end_time": "2024-09-25T13:42:51.826317Z",
     "start_time": "2024-09-25T13:42:51.793861Z"
    }
   },
   "cell_type": "code",
   "source": [
    "from dotenv import load_dotenv\n",
    "load_dotenv()"
   ],
   "outputs": [
    {
     "data": {
      "text/plain": [
       "True"
      ]
     },
     "execution_count": 1,
     "metadata": {},
     "output_type": "execute_result"
    }
   ],
   "execution_count": 1
  },
  {
   "cell_type": "code",
   "metadata": {
    "ExecuteTime": {
     "end_time": "2024-09-25T13:42:52.047464Z",
     "start_time": "2024-09-25T13:42:51.856156Z"
    }
   },
   "source": [
    "from src.data.loader import DataLoader\n",
    "\n",
    "data_loader = DataLoader()"
   ],
   "outputs": [],
   "execution_count": 2
  },
  {
   "metadata": {
    "ExecuteTime": {
     "end_time": "2024-09-25T13:42:53.959427Z",
     "start_time": "2024-09-25T13:42:52.491879Z"
    }
   },
   "cell_type": "code",
   "source": [
    "hand_histories = data_loader.load_hand_histories()\n",
    "print(hand_histories.shape)\n",
    "print(hand_histories.dtypes)\n",
    "hand_histories.head()"
   ],
   "outputs": [
    {
     "name": "stdout",
     "output_type": "stream",
     "text": [
      "(383155, 15)\n",
      "level_id                     int64\n",
      "hand_id                     object\n",
      "hand_date      datetime64[ns, UTC]\n",
      "tournament                   int64\n",
      "flop                       float64\n",
      "turn                       float64\n",
      "river                      float64\n",
      "max_players                  int64\n",
      "cnt_players                  int64\n",
      "button_seat                  int64\n",
      "hero_combo                 float64\n",
      "level_value                  int64\n",
      "level_sb                   float64\n",
      "level_bb                   float64\n",
      "level_ante                 float64\n",
      "dtype: object\n"
     ]
    },
    {
     "data": {
      "text/plain": [
       "   level_id                          hand_id                 hand_date  \\\n",
       "0     39804  539281767337558375-1-1438948828 2015-08-07 12:00:28+00:00   \n",
       "1     39805  539281767337558375-2-1438948899 2015-08-07 12:01:39+00:00   \n",
       "2     39802  539281767337558292-2-1438948980 2015-08-07 12:03:00+00:00   \n",
       "3     39803  539281767337558292-3-1438949014 2015-08-07 12:03:34+00:00   \n",
       "4     39806  539281767337558454-1-1438949056 2015-08-07 12:04:16+00:00   \n",
       "\n",
       "   tournament     flop  turn  river  max_players  cnt_players  button_seat  \\\n",
       "0           1  14398.0   1.0   39.0            6            6            2   \n",
       "1           1  10419.0  40.0   23.0            6            6            3   \n",
       "2           1  20122.0   1.0   15.0            6            6            3   \n",
       "3           1  15230.0  36.0   20.0            6            5            4   \n",
       "4           1  13381.0   4.0   41.0            6            6            5   \n",
       "\n",
       "   hero_combo  level_value  level_sb  level_bb  level_ante  \n",
       "0      1256.0            1      10.0      20.0         0.0  \n",
       "1        43.0            1      10.0      20.0         0.0  \n",
       "2       677.0            1      10.0      20.0         0.0  \n",
       "3       534.0            2      15.0      30.0         0.0  \n",
       "4      1277.0            2      15.0      30.0         0.0  "
      ],
      "text/html": [
       "<div>\n",
       "<style scoped>\n",
       "    .dataframe tbody tr th:only-of-type {\n",
       "        vertical-align: middle;\n",
       "    }\n",
       "\n",
       "    .dataframe tbody tr th {\n",
       "        vertical-align: top;\n",
       "    }\n",
       "\n",
       "    .dataframe thead th {\n",
       "        text-align: right;\n",
       "    }\n",
       "</style>\n",
       "<table border=\"1\" class=\"dataframe\">\n",
       "  <thead>\n",
       "    <tr style=\"text-align: right;\">\n",
       "      <th></th>\n",
       "      <th>level_id</th>\n",
       "      <th>hand_id</th>\n",
       "      <th>hand_date</th>\n",
       "      <th>tournament</th>\n",
       "      <th>flop</th>\n",
       "      <th>turn</th>\n",
       "      <th>river</th>\n",
       "      <th>max_players</th>\n",
       "      <th>cnt_players</th>\n",
       "      <th>button_seat</th>\n",
       "      <th>hero_combo</th>\n",
       "      <th>level_value</th>\n",
       "      <th>level_sb</th>\n",
       "      <th>level_bb</th>\n",
       "      <th>level_ante</th>\n",
       "    </tr>\n",
       "  </thead>\n",
       "  <tbody>\n",
       "    <tr>\n",
       "      <th>0</th>\n",
       "      <td>39804</td>\n",
       "      <td>539281767337558375-1-1438948828</td>\n",
       "      <td>2015-08-07 12:00:28+00:00</td>\n",
       "      <td>1</td>\n",
       "      <td>14398.0</td>\n",
       "      <td>1.0</td>\n",
       "      <td>39.0</td>\n",
       "      <td>6</td>\n",
       "      <td>6</td>\n",
       "      <td>2</td>\n",
       "      <td>1256.0</td>\n",
       "      <td>1</td>\n",
       "      <td>10.0</td>\n",
       "      <td>20.0</td>\n",
       "      <td>0.0</td>\n",
       "    </tr>\n",
       "    <tr>\n",
       "      <th>1</th>\n",
       "      <td>39805</td>\n",
       "      <td>539281767337558375-2-1438948899</td>\n",
       "      <td>2015-08-07 12:01:39+00:00</td>\n",
       "      <td>1</td>\n",
       "      <td>10419.0</td>\n",
       "      <td>40.0</td>\n",
       "      <td>23.0</td>\n",
       "      <td>6</td>\n",
       "      <td>6</td>\n",
       "      <td>3</td>\n",
       "      <td>43.0</td>\n",
       "      <td>1</td>\n",
       "      <td>10.0</td>\n",
       "      <td>20.0</td>\n",
       "      <td>0.0</td>\n",
       "    </tr>\n",
       "    <tr>\n",
       "      <th>2</th>\n",
       "      <td>39802</td>\n",
       "      <td>539281767337558292-2-1438948980</td>\n",
       "      <td>2015-08-07 12:03:00+00:00</td>\n",
       "      <td>1</td>\n",
       "      <td>20122.0</td>\n",
       "      <td>1.0</td>\n",
       "      <td>15.0</td>\n",
       "      <td>6</td>\n",
       "      <td>6</td>\n",
       "      <td>3</td>\n",
       "      <td>677.0</td>\n",
       "      <td>1</td>\n",
       "      <td>10.0</td>\n",
       "      <td>20.0</td>\n",
       "      <td>0.0</td>\n",
       "    </tr>\n",
       "    <tr>\n",
       "      <th>3</th>\n",
       "      <td>39803</td>\n",
       "      <td>539281767337558292-3-1438949014</td>\n",
       "      <td>2015-08-07 12:03:34+00:00</td>\n",
       "      <td>1</td>\n",
       "      <td>15230.0</td>\n",
       "      <td>36.0</td>\n",
       "      <td>20.0</td>\n",
       "      <td>6</td>\n",
       "      <td>5</td>\n",
       "      <td>4</td>\n",
       "      <td>534.0</td>\n",
       "      <td>2</td>\n",
       "      <td>15.0</td>\n",
       "      <td>30.0</td>\n",
       "      <td>0.0</td>\n",
       "    </tr>\n",
       "    <tr>\n",
       "      <th>4</th>\n",
       "      <td>39806</td>\n",
       "      <td>539281767337558454-1-1438949056</td>\n",
       "      <td>2015-08-07 12:04:16+00:00</td>\n",
       "      <td>1</td>\n",
       "      <td>13381.0</td>\n",
       "      <td>4.0</td>\n",
       "      <td>41.0</td>\n",
       "      <td>6</td>\n",
       "      <td>6</td>\n",
       "      <td>5</td>\n",
       "      <td>1277.0</td>\n",
       "      <td>2</td>\n",
       "      <td>15.0</td>\n",
       "      <td>30.0</td>\n",
       "      <td>0.0</td>\n",
       "    </tr>\n",
       "  </tbody>\n",
       "</table>\n",
       "</div>"
      ]
     },
     "execution_count": 3,
     "metadata": {},
     "output_type": "execute_result"
    }
   ],
   "execution_count": 3
  },
  {
   "metadata": {
    "ExecuteTime": {
     "end_time": "2024-09-25T13:42:54.126106Z",
     "start_time": "2024-09-25T13:42:54.112100Z"
    }
   },
   "cell_type": "code",
   "source": [
    "# exploitable_hand_stats = data_loader.load_exploitable_hand_stats()\n",
    "# exploitable_hand_stats.shape"
   ],
   "outputs": [],
   "execution_count": 4
  },
  {
   "metadata": {
    "ExecuteTime": {
     "end_time": "2024-09-25T13:42:54.204683Z",
     "start_time": "2024-09-25T13:42:54.192296Z"
    }
   },
   "cell_type": "code",
   "source": "# exploitable_hand_stats.head()",
   "outputs": [],
   "execution_count": 5
  }
 ],
 "metadata": {
  "kernelspec": {
   "display_name": "PokerBrainEnv",
   "language": "python",
   "name": "python3"
  },
  "language_info": {
   "codemirror_mode": {
    "name": "ipython",
    "version": 3
   },
   "file_extension": ".py",
   "mimetype": "text/x-python",
   "name": "python",
   "nbconvert_exporter": "python",
   "pygments_lexer": "ipython3",
   "version": "3.10.4"
  }
 },
 "nbformat": 4,
 "nbformat_minor": 2
}
