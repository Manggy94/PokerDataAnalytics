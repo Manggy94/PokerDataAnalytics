{
 "cells": [
  {
   "metadata": {
    "ExecuteTime": {
     "end_time": "2024-09-25T09:00:21.362146Z",
     "start_time": "2024-09-25T09:00:21.327931Z"
    }
   },
   "cell_type": "code",
   "source": [
    "from dotenv import load_dotenv\n",
    "load_dotenv()"
   ],
   "outputs": [
    {
     "data": {
      "text/plain": [
       "True"
      ]
     },
     "execution_count": 1,
     "metadata": {},
     "output_type": "execute_result"
    }
   ],
   "execution_count": 1
  },
  {
   "cell_type": "code",
   "metadata": {
    "ExecuteTime": {
     "end_time": "2024-09-25T09:00:22.908754Z",
     "start_time": "2024-09-25T09:00:21.674460Z"
    }
   },
   "source": [
    "from src.data.loader import DataLoader\n",
    "\n",
    "data_loader = DataLoader()"
   ],
   "outputs": [],
   "execution_count": 2
  },
  {
   "metadata": {
    "ExecuteTime": {
     "end_time": "2024-09-25T09:00:25.046433Z",
     "start_time": "2024-09-25T09:00:22.995210Z"
    }
   },
   "cell_type": "code",
   "source": [
    "hand_histories = data_loader.load_hand_histories()\n",
    "print(hand_histories.shape)\n",
    "hand_histories.head()"
   ],
   "outputs": [
    {
     "name": "stdout",
     "output_type": "stream",
     "text": [
      "(383155, 12)\n"
     ]
    },
    {
     "data": {
      "text/plain": [
       "           id                          hand_id                 hand_date  \\\n",
       "367010  39804  539281767337558375-1-1438948828 2015-08-07 12:00:28+00:00   \n",
       "367011  39805  539281767337558375-2-1438948899 2015-08-07 12:01:39+00:00   \n",
       "367008  39802  539281767337558292-2-1438948980 2015-08-07 12:03:00+00:00   \n",
       "367009  39803  539281767337558292-3-1438949014 2015-08-07 12:03:34+00:00   \n",
       "367012  39806  539281767337558454-1-1438949056 2015-08-07 12:04:16+00:00   \n",
       "\n",
       "        tournament     flop  turn  river  max_players  cnt_players  \\\n",
       "367010           1  14398.0   1.0   39.0            6            6   \n",
       "367011           1  10419.0  40.0   23.0            6            6   \n",
       "367008           1  20122.0   1.0   15.0            6            6   \n",
       "367009           1  15230.0  36.0   20.0            6            5   \n",
       "367012           1  13381.0   4.0   41.0            6            6   \n",
       "\n",
       "        button_seat  level  hero_combo  \n",
       "367010            2    146      1256.0  \n",
       "367011            3    146        43.0  \n",
       "367008            3    146       677.0  \n",
       "367009            4    108       534.0  \n",
       "367012            5    108      1277.0  "
      ],
      "text/html": [
       "<div>\n",
       "<style scoped>\n",
       "    .dataframe tbody tr th:only-of-type {\n",
       "        vertical-align: middle;\n",
       "    }\n",
       "\n",
       "    .dataframe tbody tr th {\n",
       "        vertical-align: top;\n",
       "    }\n",
       "\n",
       "    .dataframe thead th {\n",
       "        text-align: right;\n",
       "    }\n",
       "</style>\n",
       "<table border=\"1\" class=\"dataframe\">\n",
       "  <thead>\n",
       "    <tr style=\"text-align: right;\">\n",
       "      <th></th>\n",
       "      <th>id</th>\n",
       "      <th>hand_id</th>\n",
       "      <th>hand_date</th>\n",
       "      <th>tournament</th>\n",
       "      <th>flop</th>\n",
       "      <th>turn</th>\n",
       "      <th>river</th>\n",
       "      <th>max_players</th>\n",
       "      <th>cnt_players</th>\n",
       "      <th>button_seat</th>\n",
       "      <th>level</th>\n",
       "      <th>hero_combo</th>\n",
       "    </tr>\n",
       "  </thead>\n",
       "  <tbody>\n",
       "    <tr>\n",
       "      <th>367010</th>\n",
       "      <td>39804</td>\n",
       "      <td>539281767337558375-1-1438948828</td>\n",
       "      <td>2015-08-07 12:00:28+00:00</td>\n",
       "      <td>1</td>\n",
       "      <td>14398.0</td>\n",
       "      <td>1.0</td>\n",
       "      <td>39.0</td>\n",
       "      <td>6</td>\n",
       "      <td>6</td>\n",
       "      <td>2</td>\n",
       "      <td>146</td>\n",
       "      <td>1256.0</td>\n",
       "    </tr>\n",
       "    <tr>\n",
       "      <th>367011</th>\n",
       "      <td>39805</td>\n",
       "      <td>539281767337558375-2-1438948899</td>\n",
       "      <td>2015-08-07 12:01:39+00:00</td>\n",
       "      <td>1</td>\n",
       "      <td>10419.0</td>\n",
       "      <td>40.0</td>\n",
       "      <td>23.0</td>\n",
       "      <td>6</td>\n",
       "      <td>6</td>\n",
       "      <td>3</td>\n",
       "      <td>146</td>\n",
       "      <td>43.0</td>\n",
       "    </tr>\n",
       "    <tr>\n",
       "      <th>367008</th>\n",
       "      <td>39802</td>\n",
       "      <td>539281767337558292-2-1438948980</td>\n",
       "      <td>2015-08-07 12:03:00+00:00</td>\n",
       "      <td>1</td>\n",
       "      <td>20122.0</td>\n",
       "      <td>1.0</td>\n",
       "      <td>15.0</td>\n",
       "      <td>6</td>\n",
       "      <td>6</td>\n",
       "      <td>3</td>\n",
       "      <td>146</td>\n",
       "      <td>677.0</td>\n",
       "    </tr>\n",
       "    <tr>\n",
       "      <th>367009</th>\n",
       "      <td>39803</td>\n",
       "      <td>539281767337558292-3-1438949014</td>\n",
       "      <td>2015-08-07 12:03:34+00:00</td>\n",
       "      <td>1</td>\n",
       "      <td>15230.0</td>\n",
       "      <td>36.0</td>\n",
       "      <td>20.0</td>\n",
       "      <td>6</td>\n",
       "      <td>5</td>\n",
       "      <td>4</td>\n",
       "      <td>108</td>\n",
       "      <td>534.0</td>\n",
       "    </tr>\n",
       "    <tr>\n",
       "      <th>367012</th>\n",
       "      <td>39806</td>\n",
       "      <td>539281767337558454-1-1438949056</td>\n",
       "      <td>2015-08-07 12:04:16+00:00</td>\n",
       "      <td>1</td>\n",
       "      <td>13381.0</td>\n",
       "      <td>4.0</td>\n",
       "      <td>41.0</td>\n",
       "      <td>6</td>\n",
       "      <td>6</td>\n",
       "      <td>5</td>\n",
       "      <td>108</td>\n",
       "      <td>1277.0</td>\n",
       "    </tr>\n",
       "  </tbody>\n",
       "</table>\n",
       "</div>"
      ]
     },
     "execution_count": 3,
     "metadata": {},
     "output_type": "execute_result"
    }
   ],
   "execution_count": 3
  },
  {
   "metadata": {
    "ExecuteTime": {
     "end_time": "2024-09-25T09:00:25.493611Z",
     "start_time": "2024-09-25T09:00:25.480619Z"
    }
   },
   "cell_type": "code",
   "source": [
    "# exploitable_hand_stats = data_loader.load_exploitable_hand_stats()\n",
    "# exploitable_hand_stats.shape"
   ],
   "outputs": [],
   "execution_count": 4
  },
  {
   "metadata": {
    "ExecuteTime": {
     "end_time": "2024-09-25T09:00:25.611870Z",
     "start_time": "2024-09-25T09:00:25.599683Z"
    }
   },
   "cell_type": "code",
   "source": "# exploitable_hand_stats.head()",
   "outputs": [],
   "execution_count": 5
  }
 ],
 "metadata": {
  "kernelspec": {
   "display_name": "PokerBrainEnv",
   "language": "python",
   "name": "python3"
  },
  "language_info": {
   "codemirror_mode": {
    "name": "ipython",
    "version": 3
   },
   "file_extension": ".py",
   "mimetype": "text/x-python",
   "name": "python",
   "nbconvert_exporter": "python",
   "pygments_lexer": "ipython3",
   "version": "3.10.4"
  }
 },
 "nbformat": 4,
 "nbformat_minor": 2
}
