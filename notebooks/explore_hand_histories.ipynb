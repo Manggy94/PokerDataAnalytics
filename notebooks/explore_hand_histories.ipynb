{
 "cells": [
  {
   "metadata": {
    "ExecuteTime": {
     "end_time": "2024-09-26T00:23:51.725558Z",
     "start_time": "2024-09-26T00:23:51.712558Z"
    }
   },
   "cell_type": "code",
   "source": [
    "from dotenv import load_dotenv\n",
    "load_dotenv()"
   ],
   "outputs": [
    {
     "data": {
      "text/plain": [
       "True"
      ]
     },
     "execution_count": 6,
     "metadata": {},
     "output_type": "execute_result"
    }
   ],
   "execution_count": 6
  },
  {
   "cell_type": "code",
   "metadata": {
    "ExecuteTime": {
     "end_time": "2024-09-26T00:23:52.118758Z",
     "start_time": "2024-09-26T00:23:52.090898Z"
    }
   },
   "source": [
    "from src.data.loader import DataLoader\n",
    "\n",
    "data_loader = DataLoader()"
   ],
   "outputs": [],
   "execution_count": 7
  },
  {
   "metadata": {
    "ExecuteTime": {
     "end_time": "2024-09-26T00:23:59.989771Z",
     "start_time": "2024-09-26T00:23:52.140222Z"
    }
   },
   "cell_type": "code",
   "source": [
    "hand_histories = data_loader.load_hand_histories()\n",
    "hand_histories.dtypes"
   ],
   "outputs": [
    {
     "data": {
      "text/plain": [
       "id                                            int64\n",
       "hand_id                                      object\n",
       "hand_date                       datetime64[ns, UTC]\n",
       "tournament                                    int64\n",
       "max_players                                   int64\n",
       "cnt_players                                   int64\n",
       "button_seat                                   int64\n",
       "level_value                                   int64\n",
       "level_sb                                    float64\n",
       "level_bb                                    float64\n",
       "level_ante                                  float64\n",
       "hero_combo_short_name                        object\n",
       "hero_combo_hand                             float64\n",
       "hero_combo_short_name_card1                  object\n",
       "hero_combo_is_broadway_card1                 object\n",
       "hero_combo_is_face_card1                     object\n",
       "hero_combo_rank_card1                        object\n",
       "hero_combo_suit_card1                        object\n",
       "hero_combo_short_name_card2                  object\n",
       "hero_combo_is_broadway_card2                 object\n",
       "hero_combo_is_face_card2                     object\n",
       "hero_combo_rank_card2                        object\n",
       "hero_combo_suit_card2                        object\n",
       "flop_short_name                              object\n",
       "flop_is_rainbow                              object\n",
       "flop_has_flush_draw                          object\n",
       "flop_is_monotone                             object\n",
       "flop_is_triplet                              object\n",
       "flop_is_paired                               object\n",
       "flop_is_sequential                           object\n",
       "flop_has_straights                           object\n",
       "flop_has_straight_draw                       object\n",
       "flop_has_gutshot                             object\n",
       "flop_min_distance                           float64\n",
       "flop_max_distance                           float64\n",
       "flop_short_name_card1                        object\n",
       "flop_is_broadway_card1                       object\n",
       "flop_is_face_card1                           object\n",
       "flop_suit_card1                             float64\n",
       "flop_rank_card1                             float64\n",
       "flop_short_name_card2                        object\n",
       "flop_is_broadway_card2                       object\n",
       "flop_is_face_card2                           object\n",
       "flop_suit_card2                             float64\n",
       "flop_rank_card2                             float64\n",
       "flop_short_name_card3                        object\n",
       "flop_is_broadway_card3                       object\n",
       "flop_is_face_card3                           object\n",
       "flop_suit_card3                             float64\n",
       "flop_rank_card3                             float64\n",
       "turn_card_short_name                         object\n",
       "turn_card_is_broadway                        object\n",
       "turn_card_is_face                            object\n",
       "turn_card_rank                               object\n",
       "turn_card_suit                               object\n",
       "river_card_short_name                        object\n",
       "river_card_is_broadway                       object\n",
       "river_card_is_face                           object\n",
       "river_card_rank                              object\n",
       "river_card_suit                              object\n",
       "dtype: object"
      ]
     },
     "execution_count": 8,
     "metadata": {},
     "output_type": "execute_result"
    }
   ],
   "execution_count": 8
  },
  {
   "metadata": {
    "ExecuteTime": {
     "end_time": "2024-09-26T00:24:00.249354Z",
     "start_time": "2024-09-26T00:24:00.221339Z"
    }
   },
   "cell_type": "code",
   "source": "hand_histories.head()\n",
   "outputs": [
    {
     "data": {
      "text/plain": [
       "      id                          hand_id                 hand_date  \\\n",
       "0  39804  539281767337558375-1-1438948828 2015-08-07 12:00:28+00:00   \n",
       "1  39805  539281767337558375-2-1438948899 2015-08-07 12:01:39+00:00   \n",
       "2  39802  539281767337558292-2-1438948980 2015-08-07 12:03:00+00:00   \n",
       "3  39803  539281767337558292-3-1438949014 2015-08-07 12:03:34+00:00   \n",
       "4  39806  539281767337558454-1-1438949056 2015-08-07 12:04:16+00:00   \n",
       "\n",
       "   tournament  max_players  cnt_players  button_seat  level_value  level_sb  \\\n",
       "0           1            6            6            2            1      10.0   \n",
       "1           1            6            6            3            1      10.0   \n",
       "2           1            6            6            3            1      10.0   \n",
       "3           1            6            5            4            2      15.0   \n",
       "4           1            6            6            5            2      15.0   \n",
       "\n",
       "   level_bb  ...  turn_card_short_name turn_card_is_broadway  \\\n",
       "0      20.0  ...                    2c                 False   \n",
       "1      20.0  ...                    Js                  True   \n",
       "2      20.0  ...                    2c                 False   \n",
       "3      30.0  ...                    Ts                  True   \n",
       "4      30.0  ...                    2s                 False   \n",
       "\n",
       "   turn_card_is_face turn_card_rank turn_card_suit river_card_short_name  \\\n",
       "0              False              2              c                    Jh   \n",
       "1               True              J              s                    7h   \n",
       "2              False              2              c                    5h   \n",
       "3              False              T              s                    6s   \n",
       "4              False              2              s                    Qc   \n",
       "\n",
       "  river_card_is_broadway river_card_is_face river_card_rank river_card_suit  \n",
       "0                   True               True               J               h  \n",
       "1                  False              False               7               h  \n",
       "2                  False              False               5               h  \n",
       "3                  False              False               6               s  \n",
       "4                   True               True               Q               c  \n",
       "\n",
       "[5 rows x 60 columns]"
      ],
      "text/html": [
       "<div>\n",
       "<style scoped>\n",
       "    .dataframe tbody tr th:only-of-type {\n",
       "        vertical-align: middle;\n",
       "    }\n",
       "\n",
       "    .dataframe tbody tr th {\n",
       "        vertical-align: top;\n",
       "    }\n",
       "\n",
       "    .dataframe thead th {\n",
       "        text-align: right;\n",
       "    }\n",
       "</style>\n",
       "<table border=\"1\" class=\"dataframe\">\n",
       "  <thead>\n",
       "    <tr style=\"text-align: right;\">\n",
       "      <th></th>\n",
       "      <th>id</th>\n",
       "      <th>hand_id</th>\n",
       "      <th>hand_date</th>\n",
       "      <th>tournament</th>\n",
       "      <th>max_players</th>\n",
       "      <th>cnt_players</th>\n",
       "      <th>button_seat</th>\n",
       "      <th>level_value</th>\n",
       "      <th>level_sb</th>\n",
       "      <th>level_bb</th>\n",
       "      <th>...</th>\n",
       "      <th>turn_card_short_name</th>\n",
       "      <th>turn_card_is_broadway</th>\n",
       "      <th>turn_card_is_face</th>\n",
       "      <th>turn_card_rank</th>\n",
       "      <th>turn_card_suit</th>\n",
       "      <th>river_card_short_name</th>\n",
       "      <th>river_card_is_broadway</th>\n",
       "      <th>river_card_is_face</th>\n",
       "      <th>river_card_rank</th>\n",
       "      <th>river_card_suit</th>\n",
       "    </tr>\n",
       "  </thead>\n",
       "  <tbody>\n",
       "    <tr>\n",
       "      <th>0</th>\n",
       "      <td>39804</td>\n",
       "      <td>539281767337558375-1-1438948828</td>\n",
       "      <td>2015-08-07 12:00:28+00:00</td>\n",
       "      <td>1</td>\n",
       "      <td>6</td>\n",
       "      <td>6</td>\n",
       "      <td>2</td>\n",
       "      <td>1</td>\n",
       "      <td>10.0</td>\n",
       "      <td>20.0</td>\n",
       "      <td>...</td>\n",
       "      <td>2c</td>\n",
       "      <td>False</td>\n",
       "      <td>False</td>\n",
       "      <td>2</td>\n",
       "      <td>c</td>\n",
       "      <td>Jh</td>\n",
       "      <td>True</td>\n",
       "      <td>True</td>\n",
       "      <td>J</td>\n",
       "      <td>h</td>\n",
       "    </tr>\n",
       "    <tr>\n",
       "      <th>1</th>\n",
       "      <td>39805</td>\n",
       "      <td>539281767337558375-2-1438948899</td>\n",
       "      <td>2015-08-07 12:01:39+00:00</td>\n",
       "      <td>1</td>\n",
       "      <td>6</td>\n",
       "      <td>6</td>\n",
       "      <td>3</td>\n",
       "      <td>1</td>\n",
       "      <td>10.0</td>\n",
       "      <td>20.0</td>\n",
       "      <td>...</td>\n",
       "      <td>Js</td>\n",
       "      <td>True</td>\n",
       "      <td>True</td>\n",
       "      <td>J</td>\n",
       "      <td>s</td>\n",
       "      <td>7h</td>\n",
       "      <td>False</td>\n",
       "      <td>False</td>\n",
       "      <td>7</td>\n",
       "      <td>h</td>\n",
       "    </tr>\n",
       "    <tr>\n",
       "      <th>2</th>\n",
       "      <td>39802</td>\n",
       "      <td>539281767337558292-2-1438948980</td>\n",
       "      <td>2015-08-07 12:03:00+00:00</td>\n",
       "      <td>1</td>\n",
       "      <td>6</td>\n",
       "      <td>6</td>\n",
       "      <td>3</td>\n",
       "      <td>1</td>\n",
       "      <td>10.0</td>\n",
       "      <td>20.0</td>\n",
       "      <td>...</td>\n",
       "      <td>2c</td>\n",
       "      <td>False</td>\n",
       "      <td>False</td>\n",
       "      <td>2</td>\n",
       "      <td>c</td>\n",
       "      <td>5h</td>\n",
       "      <td>False</td>\n",
       "      <td>False</td>\n",
       "      <td>5</td>\n",
       "      <td>h</td>\n",
       "    </tr>\n",
       "    <tr>\n",
       "      <th>3</th>\n",
       "      <td>39803</td>\n",
       "      <td>539281767337558292-3-1438949014</td>\n",
       "      <td>2015-08-07 12:03:34+00:00</td>\n",
       "      <td>1</td>\n",
       "      <td>6</td>\n",
       "      <td>5</td>\n",
       "      <td>4</td>\n",
       "      <td>2</td>\n",
       "      <td>15.0</td>\n",
       "      <td>30.0</td>\n",
       "      <td>...</td>\n",
       "      <td>Ts</td>\n",
       "      <td>True</td>\n",
       "      <td>False</td>\n",
       "      <td>T</td>\n",
       "      <td>s</td>\n",
       "      <td>6s</td>\n",
       "      <td>False</td>\n",
       "      <td>False</td>\n",
       "      <td>6</td>\n",
       "      <td>s</td>\n",
       "    </tr>\n",
       "    <tr>\n",
       "      <th>4</th>\n",
       "      <td>39806</td>\n",
       "      <td>539281767337558454-1-1438949056</td>\n",
       "      <td>2015-08-07 12:04:16+00:00</td>\n",
       "      <td>1</td>\n",
       "      <td>6</td>\n",
       "      <td>6</td>\n",
       "      <td>5</td>\n",
       "      <td>2</td>\n",
       "      <td>15.0</td>\n",
       "      <td>30.0</td>\n",
       "      <td>...</td>\n",
       "      <td>2s</td>\n",
       "      <td>False</td>\n",
       "      <td>False</td>\n",
       "      <td>2</td>\n",
       "      <td>s</td>\n",
       "      <td>Qc</td>\n",
       "      <td>True</td>\n",
       "      <td>True</td>\n",
       "      <td>Q</td>\n",
       "      <td>c</td>\n",
       "    </tr>\n",
       "  </tbody>\n",
       "</table>\n",
       "<p>5 rows × 60 columns</p>\n",
       "</div>"
      ]
     },
     "execution_count": 9,
     "metadata": {},
     "output_type": "execute_result"
    }
   ],
   "execution_count": 9
  },
  {
   "metadata": {
    "ExecuteTime": {
     "end_time": "2024-09-26T00:24:00.359340Z",
     "start_time": "2024-09-26T00:24:00.345338Z"
    }
   },
   "cell_type": "code",
   "source": [
    "# exploitable_hand_stats = data_loader.load_exploitable_hand_stats()\n",
    "# exploitable_hand_stats.shape"
   ],
   "outputs": [],
   "execution_count": 10
  },
  {
   "metadata": {
    "ExecuteTime": {
     "end_time": "2024-09-26T00:24:00.468826Z",
     "start_time": "2024-09-26T00:24:00.460834Z"
    }
   },
   "cell_type": "code",
   "source": "# exploitable_hand_stats.head()",
   "outputs": [],
   "execution_count": 11
  }
 ],
 "metadata": {
  "kernelspec": {
   "display_name": "PokerBrainEnv",
   "language": "python",
   "name": "python3"
  },
  "language_info": {
   "codemirror_mode": {
    "name": "ipython",
    "version": 3
   },
   "file_extension": ".py",
   "mimetype": "text/x-python",
   "name": "python",
   "nbconvert_exporter": "python",
   "pygments_lexer": "ipython3",
   "version": "3.10.4"
  }
 },
 "nbformat": 4,
 "nbformat_minor": 2
}
