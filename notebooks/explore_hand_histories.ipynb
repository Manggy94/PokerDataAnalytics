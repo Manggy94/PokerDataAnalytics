{
 "cells": [
  {
   "metadata": {
    "ExecuteTime": {
     "end_time": "2024-09-24T14:45:19.443612Z",
     "start_time": "2024-09-24T14:45:19.400351Z"
    }
   },
   "cell_type": "code",
   "source": [
    "from dotenv import load_dotenv\n",
    "load_dotenv()"
   ],
   "outputs": [
    {
     "data": {
      "text/plain": [
       "True"
      ]
     },
     "execution_count": 1,
     "metadata": {},
     "output_type": "execute_result"
    }
   ],
   "execution_count": 1
  },
  {
   "cell_type": "code",
   "metadata": {
    "ExecuteTime": {
     "end_time": "2024-09-24T14:45:19.898466Z",
     "start_time": "2024-09-24T14:45:19.559496Z"
    }
   },
   "source": [
    "from src.data.loader import DataLoader\n",
    "\n",
    "data_loader = DataLoader()"
   ],
   "outputs": [],
   "execution_count": 2
  },
  {
   "metadata": {
    "ExecuteTime": {
     "end_time": "2024-09-24T14:51:00.703424Z",
     "start_time": "2024-09-24T14:45:20.705783Z"
    }
   },
   "cell_type": "code",
   "source": [
    "exploitable_hand_stats = data_loader.load_exploitable_hand_stats()\n",
    "exploitable_hand_stats.shape"
   ],
   "outputs": [
    {
     "data": {
      "text/plain": [
       "(590928, 302)"
      ]
     },
     "execution_count": 3,
     "metadata": {},
     "output_type": "execute_result"
    }
   ],
   "execution_count": 3
  },
  {
   "metadata": {
    "ExecuteTime": {
     "end_time": "2024-09-24T14:51:01.961636Z",
     "start_time": "2024-09-24T14:51:01.861485Z"
    }
   },
   "cell_type": "code",
   "source": "exploitable_hand_stats.head()",
   "outputs": [
    {
     "data": {
      "text/plain": [
       "    player                             hand_id                 hand_date  \\\n",
       "0        2   2409773327921971201-46-1658304244 2022-07-20 08:04:04+00:00   \n",
       "3        2  2830234451353534467-142-1685701443 2023-06-02 10:24:03+00:00   \n",
       "8        2  2830234451353534467-111-1685699411 2023-06-02 09:50:11+00:00   \n",
       "10   52887   2828869059775299637-82-1685615533 2023-06-01 10:32:13+00:00   \n",
       "11       2   2828869059775299637-82-1685615533 2023-06-01 10:32:13+00:00   \n",
       "\n",
       "    tournament     flop  turn  river  max_players  cnt_players  button_seat  \\\n",
       "0         2512   7506.0  42.0   12.0            6            5            3   \n",
       "3         4731      NaN   NaN    NaN            6            5            6   \n",
       "8         4731      NaN   NaN    NaN            6            6            4   \n",
       "10        4730  16662.0  40.0   51.0            6            6            6   \n",
       "11        4730  16662.0  40.0   51.0            6            6            6   \n",
       "\n",
       "    ...  river_ratio_bet_made  river_ratio_first_raise_made  \\\n",
       "0   ...              0.000000                           0.0   \n",
       "3   ...              0.000000                           0.0   \n",
       "8   ...              0.000000                           0.0   \n",
       "10  ...              0.333333                           0.0   \n",
       "11  ...              0.000000                           0.0   \n",
       "\n",
       "    river_ratio_second_raise_made  river_total_bet_amount  \\\n",
       "0                             0.0                     0.0   \n",
       "3                             0.0                     0.0   \n",
       "8                             0.0                     0.0   \n",
       "10                            0.0                  5712.0   \n",
       "11                            0.0                     0.0   \n",
       "\n",
       "   river_move_facing_1bet river_move_facing_2bet river_move_facing_3bet  \\\n",
       "0                     NaN                    NaN                    NaN   \n",
       "3                     NaN                    NaN                    NaN   \n",
       "8                     NaN                    NaN                    NaN   \n",
       "10                    NaN                    NaN                    NaN   \n",
       "11                    NaN                    NaN                    NaN   \n",
       "\n",
       "   river_move_facing_4bet river_move_facing_cbet river_move_facing_donk_bet  \n",
       "0                     NaN                    NaN                        NaN  \n",
       "3                     NaN                    NaN                        NaN  \n",
       "8                     NaN                    NaN                        NaN  \n",
       "10                    NaN                    NaN                        NaN  \n",
       "11                    NaN                    NaN                        NaN  \n",
       "\n",
       "[5 rows x 302 columns]"
      ],
      "text/html": [
       "<div>\n",
       "<style scoped>\n",
       "    .dataframe tbody tr th:only-of-type {\n",
       "        vertical-align: middle;\n",
       "    }\n",
       "\n",
       "    .dataframe tbody tr th {\n",
       "        vertical-align: top;\n",
       "    }\n",
       "\n",
       "    .dataframe thead th {\n",
       "        text-align: right;\n",
       "    }\n",
       "</style>\n",
       "<table border=\"1\" class=\"dataframe\">\n",
       "  <thead>\n",
       "    <tr style=\"text-align: right;\">\n",
       "      <th></th>\n",
       "      <th>player</th>\n",
       "      <th>hand_id</th>\n",
       "      <th>hand_date</th>\n",
       "      <th>tournament</th>\n",
       "      <th>flop</th>\n",
       "      <th>turn</th>\n",
       "      <th>river</th>\n",
       "      <th>max_players</th>\n",
       "      <th>cnt_players</th>\n",
       "      <th>button_seat</th>\n",
       "      <th>...</th>\n",
       "      <th>river_ratio_bet_made</th>\n",
       "      <th>river_ratio_first_raise_made</th>\n",
       "      <th>river_ratio_second_raise_made</th>\n",
       "      <th>river_total_bet_amount</th>\n",
       "      <th>river_move_facing_1bet</th>\n",
       "      <th>river_move_facing_2bet</th>\n",
       "      <th>river_move_facing_3bet</th>\n",
       "      <th>river_move_facing_4bet</th>\n",
       "      <th>river_move_facing_cbet</th>\n",
       "      <th>river_move_facing_donk_bet</th>\n",
       "    </tr>\n",
       "  </thead>\n",
       "  <tbody>\n",
       "    <tr>\n",
       "      <th>0</th>\n",
       "      <td>2</td>\n",
       "      <td>2409773327921971201-46-1658304244</td>\n",
       "      <td>2022-07-20 08:04:04+00:00</td>\n",
       "      <td>2512</td>\n",
       "      <td>7506.0</td>\n",
       "      <td>42.0</td>\n",
       "      <td>12.0</td>\n",
       "      <td>6</td>\n",
       "      <td>5</td>\n",
       "      <td>3</td>\n",
       "      <td>...</td>\n",
       "      <td>0.000000</td>\n",
       "      <td>0.0</td>\n",
       "      <td>0.0</td>\n",
       "      <td>0.0</td>\n",
       "      <td>NaN</td>\n",
       "      <td>NaN</td>\n",
       "      <td>NaN</td>\n",
       "      <td>NaN</td>\n",
       "      <td>NaN</td>\n",
       "      <td>NaN</td>\n",
       "    </tr>\n",
       "    <tr>\n",
       "      <th>3</th>\n",
       "      <td>2</td>\n",
       "      <td>2830234451353534467-142-1685701443</td>\n",
       "      <td>2023-06-02 10:24:03+00:00</td>\n",
       "      <td>4731</td>\n",
       "      <td>NaN</td>\n",
       "      <td>NaN</td>\n",
       "      <td>NaN</td>\n",
       "      <td>6</td>\n",
       "      <td>5</td>\n",
       "      <td>6</td>\n",
       "      <td>...</td>\n",
       "      <td>0.000000</td>\n",
       "      <td>0.0</td>\n",
       "      <td>0.0</td>\n",
       "      <td>0.0</td>\n",
       "      <td>NaN</td>\n",
       "      <td>NaN</td>\n",
       "      <td>NaN</td>\n",
       "      <td>NaN</td>\n",
       "      <td>NaN</td>\n",
       "      <td>NaN</td>\n",
       "    </tr>\n",
       "    <tr>\n",
       "      <th>8</th>\n",
       "      <td>2</td>\n",
       "      <td>2830234451353534467-111-1685699411</td>\n",
       "      <td>2023-06-02 09:50:11+00:00</td>\n",
       "      <td>4731</td>\n",
       "      <td>NaN</td>\n",
       "      <td>NaN</td>\n",
       "      <td>NaN</td>\n",
       "      <td>6</td>\n",
       "      <td>6</td>\n",
       "      <td>4</td>\n",
       "      <td>...</td>\n",
       "      <td>0.000000</td>\n",
       "      <td>0.0</td>\n",
       "      <td>0.0</td>\n",
       "      <td>0.0</td>\n",
       "      <td>NaN</td>\n",
       "      <td>NaN</td>\n",
       "      <td>NaN</td>\n",
       "      <td>NaN</td>\n",
       "      <td>NaN</td>\n",
       "      <td>NaN</td>\n",
       "    </tr>\n",
       "    <tr>\n",
       "      <th>10</th>\n",
       "      <td>52887</td>\n",
       "      <td>2828869059775299637-82-1685615533</td>\n",
       "      <td>2023-06-01 10:32:13+00:00</td>\n",
       "      <td>4730</td>\n",
       "      <td>16662.0</td>\n",
       "      <td>40.0</td>\n",
       "      <td>51.0</td>\n",
       "      <td>6</td>\n",
       "      <td>6</td>\n",
       "      <td>6</td>\n",
       "      <td>...</td>\n",
       "      <td>0.333333</td>\n",
       "      <td>0.0</td>\n",
       "      <td>0.0</td>\n",
       "      <td>5712.0</td>\n",
       "      <td>NaN</td>\n",
       "      <td>NaN</td>\n",
       "      <td>NaN</td>\n",
       "      <td>NaN</td>\n",
       "      <td>NaN</td>\n",
       "      <td>NaN</td>\n",
       "    </tr>\n",
       "    <tr>\n",
       "      <th>11</th>\n",
       "      <td>2</td>\n",
       "      <td>2828869059775299637-82-1685615533</td>\n",
       "      <td>2023-06-01 10:32:13+00:00</td>\n",
       "      <td>4730</td>\n",
       "      <td>16662.0</td>\n",
       "      <td>40.0</td>\n",
       "      <td>51.0</td>\n",
       "      <td>6</td>\n",
       "      <td>6</td>\n",
       "      <td>6</td>\n",
       "      <td>...</td>\n",
       "      <td>0.000000</td>\n",
       "      <td>0.0</td>\n",
       "      <td>0.0</td>\n",
       "      <td>0.0</td>\n",
       "      <td>NaN</td>\n",
       "      <td>NaN</td>\n",
       "      <td>NaN</td>\n",
       "      <td>NaN</td>\n",
       "      <td>NaN</td>\n",
       "      <td>NaN</td>\n",
       "    </tr>\n",
       "  </tbody>\n",
       "</table>\n",
       "<p>5 rows × 302 columns</p>\n",
       "</div>"
      ]
     },
     "execution_count": 4,
     "metadata": {},
     "output_type": "execute_result"
    }
   ],
   "execution_count": 4
  }
 ],
 "metadata": {
  "kernelspec": {
   "display_name": "PokerBrainEnv",
   "language": "python",
   "name": "python3"
  },
  "language_info": {
   "codemirror_mode": {
    "name": "ipython",
    "version": 3
   },
   "file_extension": ".py",
   "mimetype": "text/x-python",
   "name": "python",
   "nbconvert_exporter": "python",
   "pygments_lexer": "ipython3",
   "version": "3.10.4"
  }
 },
 "nbformat": 4,
 "nbformat_minor": 2
}
