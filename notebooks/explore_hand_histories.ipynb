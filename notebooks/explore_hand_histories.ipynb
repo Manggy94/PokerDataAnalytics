{
 "cells": [
  {
   "metadata": {
    "ExecuteTime": {
     "end_time": "2024-09-26T23:10:44.626512Z",
     "start_time": "2024-09-26T23:10:44.559150Z"
    }
   },
   "cell_type": "code",
   "source": [
    "from dotenv import load_dotenv\n",
    "load_dotenv()"
   ],
   "outputs": [
    {
     "data": {
      "text/plain": [
       "True"
      ]
     },
     "execution_count": 1,
     "metadata": {},
     "output_type": "execute_result"
    }
   ],
   "execution_count": 1
  },
  {
   "cell_type": "code",
   "metadata": {
    "ExecuteTime": {
     "end_time": "2024-09-26T23:10:46.172554Z",
     "start_time": "2024-09-26T23:10:45.658221Z"
    }
   },
   "source": [
    "from src.data.loader import DataLoader\n",
    "\n",
    "data_loader = DataLoader()"
   ],
   "outputs": [],
   "execution_count": 2
  },
  {
   "metadata": {
    "ExecuteTime": {
     "end_time": "2024-09-26T23:10:55.084127Z",
     "start_time": "2024-09-26T23:10:46.194529Z"
    }
   },
   "cell_type": "code",
   "source": [
    "general_player_hand_stats = data_loader.load_general_player_hand_stats()\n",
    "general_player_hand_stats.head()\n"
   ],
   "outputs": [
    {
     "data": {
      "text/plain": [
       "        id  player  hand_history  flag_went_to_showdown  flag_is_hero  \\\n",
       "0   681519       2        117212                   True          True   \n",
       "1  1279556   53014        227139                  False         False   \n",
       "2  1279559   16408        227139                  False         False   \n",
       "3  1279563       2        227139                  False          True   \n",
       "4  1279588   53015        227139                  False         False   \n",
       "\n",
       "   flag_won_hand  starting_stack  bounty  amount_won  chips_difference  ...  \\\n",
       "0           True        108320.0    0.00    204012.0          103276.0  ...   \n",
       "1          False         23473.0    9.00         0.0           -1800.0  ...   \n",
       "2          False         30792.0    4.50         0.0            -200.0  ...   \n",
       "3          False         63875.0    7.87         0.0            -200.0  ...   \n",
       "4           True         67455.0    6.75      6600.0            3200.0  ...   \n",
       "\n",
       "   all_in_street  face_covering_bet_street  face_all_in_street   combo  seat  \\\n",
       "0            3.0                       3.0                 NaN  1236.0     2   \n",
       "1            NaN                       NaN                 NaN     NaN     3   \n",
       "2            NaN                       NaN                 NaN     NaN     4   \n",
       "3            NaN                       NaN                 NaN   209.0     5   \n",
       "4            NaN                       NaN                 NaN     NaN     6   \n",
       "\n",
       "   player_position_name  player_position_is_early  player_position_is_middle  \\\n",
       "0                    CO                     False                      False   \n",
       "1                    BB                     False                      False   \n",
       "2                    HJ                     False                       True   \n",
       "3                    CO                     False                      False   \n",
       "4                   BTN                     False                      False   \n",
       "\n",
       "   player_position_is_late  player_position_is_blind  \n",
       "0                     True                     False  \n",
       "1                    False                      True  \n",
       "2                    False                     False  \n",
       "3                     True                     False  \n",
       "4                     True                     False  \n",
       "\n",
       "[5 rows x 25 columns]"
      ],
      "text/html": [
       "<div>\n",
       "<style scoped>\n",
       "    .dataframe tbody tr th:only-of-type {\n",
       "        vertical-align: middle;\n",
       "    }\n",
       "\n",
       "    .dataframe tbody tr th {\n",
       "        vertical-align: top;\n",
       "    }\n",
       "\n",
       "    .dataframe thead th {\n",
       "        text-align: right;\n",
       "    }\n",
       "</style>\n",
       "<table border=\"1\" class=\"dataframe\">\n",
       "  <thead>\n",
       "    <tr style=\"text-align: right;\">\n",
       "      <th></th>\n",
       "      <th>id</th>\n",
       "      <th>player</th>\n",
       "      <th>hand_history</th>\n",
       "      <th>flag_went_to_showdown</th>\n",
       "      <th>flag_is_hero</th>\n",
       "      <th>flag_won_hand</th>\n",
       "      <th>starting_stack</th>\n",
       "      <th>bounty</th>\n",
       "      <th>amount_won</th>\n",
       "      <th>chips_difference</th>\n",
       "      <th>...</th>\n",
       "      <th>all_in_street</th>\n",
       "      <th>face_covering_bet_street</th>\n",
       "      <th>face_all_in_street</th>\n",
       "      <th>combo</th>\n",
       "      <th>seat</th>\n",
       "      <th>player_position_name</th>\n",
       "      <th>player_position_is_early</th>\n",
       "      <th>player_position_is_middle</th>\n",
       "      <th>player_position_is_late</th>\n",
       "      <th>player_position_is_blind</th>\n",
       "    </tr>\n",
       "  </thead>\n",
       "  <tbody>\n",
       "    <tr>\n",
       "      <th>0</th>\n",
       "      <td>681519</td>\n",
       "      <td>2</td>\n",
       "      <td>117212</td>\n",
       "      <td>True</td>\n",
       "      <td>True</td>\n",
       "      <td>True</td>\n",
       "      <td>108320.0</td>\n",
       "      <td>0.00</td>\n",
       "      <td>204012.0</td>\n",
       "      <td>103276.0</td>\n",
       "      <td>...</td>\n",
       "      <td>3.0</td>\n",
       "      <td>3.0</td>\n",
       "      <td>NaN</td>\n",
       "      <td>1236.0</td>\n",
       "      <td>2</td>\n",
       "      <td>CO</td>\n",
       "      <td>False</td>\n",
       "      <td>False</td>\n",
       "      <td>True</td>\n",
       "      <td>False</td>\n",
       "    </tr>\n",
       "    <tr>\n",
       "      <th>1</th>\n",
       "      <td>1279556</td>\n",
       "      <td>53014</td>\n",
       "      <td>227139</td>\n",
       "      <td>False</td>\n",
       "      <td>False</td>\n",
       "      <td>False</td>\n",
       "      <td>23473.0</td>\n",
       "      <td>9.00</td>\n",
       "      <td>0.0</td>\n",
       "      <td>-1800.0</td>\n",
       "      <td>...</td>\n",
       "      <td>NaN</td>\n",
       "      <td>NaN</td>\n",
       "      <td>NaN</td>\n",
       "      <td>NaN</td>\n",
       "      <td>3</td>\n",
       "      <td>BB</td>\n",
       "      <td>False</td>\n",
       "      <td>False</td>\n",
       "      <td>False</td>\n",
       "      <td>True</td>\n",
       "    </tr>\n",
       "    <tr>\n",
       "      <th>2</th>\n",
       "      <td>1279559</td>\n",
       "      <td>16408</td>\n",
       "      <td>227139</td>\n",
       "      <td>False</td>\n",
       "      <td>False</td>\n",
       "      <td>False</td>\n",
       "      <td>30792.0</td>\n",
       "      <td>4.50</td>\n",
       "      <td>0.0</td>\n",
       "      <td>-200.0</td>\n",
       "      <td>...</td>\n",
       "      <td>NaN</td>\n",
       "      <td>NaN</td>\n",
       "      <td>NaN</td>\n",
       "      <td>NaN</td>\n",
       "      <td>4</td>\n",
       "      <td>HJ</td>\n",
       "      <td>False</td>\n",
       "      <td>True</td>\n",
       "      <td>False</td>\n",
       "      <td>False</td>\n",
       "    </tr>\n",
       "    <tr>\n",
       "      <th>3</th>\n",
       "      <td>1279563</td>\n",
       "      <td>2</td>\n",
       "      <td>227139</td>\n",
       "      <td>False</td>\n",
       "      <td>True</td>\n",
       "      <td>False</td>\n",
       "      <td>63875.0</td>\n",
       "      <td>7.87</td>\n",
       "      <td>0.0</td>\n",
       "      <td>-200.0</td>\n",
       "      <td>...</td>\n",
       "      <td>NaN</td>\n",
       "      <td>NaN</td>\n",
       "      <td>NaN</td>\n",
       "      <td>209.0</td>\n",
       "      <td>5</td>\n",
       "      <td>CO</td>\n",
       "      <td>False</td>\n",
       "      <td>False</td>\n",
       "      <td>True</td>\n",
       "      <td>False</td>\n",
       "    </tr>\n",
       "    <tr>\n",
       "      <th>4</th>\n",
       "      <td>1279588</td>\n",
       "      <td>53015</td>\n",
       "      <td>227139</td>\n",
       "      <td>False</td>\n",
       "      <td>False</td>\n",
       "      <td>True</td>\n",
       "      <td>67455.0</td>\n",
       "      <td>6.75</td>\n",
       "      <td>6600.0</td>\n",
       "      <td>3200.0</td>\n",
       "      <td>...</td>\n",
       "      <td>NaN</td>\n",
       "      <td>NaN</td>\n",
       "      <td>NaN</td>\n",
       "      <td>NaN</td>\n",
       "      <td>6</td>\n",
       "      <td>BTN</td>\n",
       "      <td>False</td>\n",
       "      <td>False</td>\n",
       "      <td>True</td>\n",
       "      <td>False</td>\n",
       "    </tr>\n",
       "  </tbody>\n",
       "</table>\n",
       "<p>5 rows × 25 columns</p>\n",
       "</div>"
      ]
     },
     "execution_count": 3,
     "metadata": {},
     "output_type": "execute_result"
    }
   ],
   "execution_count": 3
  },
  {
   "metadata": {
    "ExecuteTime": {
     "end_time": "2024-09-26T23:10:56.953255Z",
     "start_time": "2024-09-26T23:10:56.940697Z"
    }
   },
   "cell_type": "code",
   "source": [
    "# exploitable_hand_stats = data_loader.load_exploitable_hand_stats()\n",
    "# exploitable_hand_stats.shape"
   ],
   "outputs": [],
   "execution_count": 4
  },
  {
   "metadata": {
    "ExecuteTime": {
     "end_time": "2024-09-26T23:10:57.122370Z",
     "start_time": "2024-09-26T23:10:57.110822Z"
    }
   },
   "cell_type": "code",
   "source": "# exploitable_hand_stats.head()",
   "outputs": [],
   "execution_count": 5
  }
 ],
 "metadata": {
  "kernelspec": {
   "display_name": "PokerBrainEnv",
   "language": "python",
   "name": "python3"
  },
  "language_info": {
   "codemirror_mode": {
    "name": "ipython",
    "version": 3
   },
   "file_extension": ".py",
   "mimetype": "text/x-python",
   "name": "python",
   "nbconvert_exporter": "python",
   "pygments_lexer": "ipython3",
   "version": "3.10.4"
  }
 },
 "nbformat": 4,
 "nbformat_minor": 2
}
