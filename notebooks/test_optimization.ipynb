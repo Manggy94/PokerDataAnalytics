{
 "cells": [
  {
   "metadata": {
    "ExecuteTime": {
     "end_time": "2024-11-27T15:47:48.048477Z",
     "start_time": "2024-11-27T15:47:47.083856Z"
    }
   },
   "cell_type": "code",
   "source": [
    "from dotenv import load_dotenv\n",
    "from random import randint\n",
    "import numpy as np\n",
    "import pandas as pd\n",
    "load_dotenv()"
   ],
   "id": "2328d850f1af7855",
   "outputs": [
    {
     "data": {
      "text/plain": [
       "True"
      ]
     },
     "execution_count": 39,
     "metadata": {},
     "output_type": "execute_result"
    }
   ],
   "execution_count": 39
  },
  {
   "metadata": {
    "ExecuteTime": {
     "end_time": "2024-11-27T15:36:20.287467Z",
     "start_time": "2024-11-27T15:36:20.271946Z"
    }
   },
   "cell_type": "code",
   "source": [
    "n_layers = [1, 2, 3]\n",
    "n_neurons = [64, 128, 256]\n",
    "learning_rate = [1e-5, 3e-5, 1e-4]\n",
    "dropout = [0.0, 0.1, 0.2]\n",
    "parameters_grid = {\n",
    "    'n_layers': n_layers,\n",
    "    'n_neurons': n_neurons,\n",
    "    'learning_rate': learning_rate,\n",
    "    'dropout': dropout,\n",
    "    'epochs': [20],\n",
    "}"
   ],
   "id": "83ea3c0f2e494cf",
   "outputs": [],
   "execution_count": 18
  },
  {
   "cell_type": "code",
   "id": "initial_id",
   "metadata": {
    "collapsed": true,
    "ExecuteTime": {
     "end_time": "2024-11-27T15:52:52.096654Z",
     "start_time": "2024-11-27T15:52:52.087340Z"
    }
   },
   "source": [
    "def make_parameters_df(n_population: int, grid: dict) -> pd.DataFrame:\n",
    "    max_population = np.product([len(value) for value in grid.values()])\n",
    "    parameters_list = []\n",
    "    while len(parameters_list) < min(n_population, max_population):\n",
    "        parameters = {}\n",
    "        for key, values in grid.items():\n",
    "            parameters[key] = np.random.choice(values)\n",
    "        if parameters not in parameters_list:\n",
    "            parameters_list.append(parameters)\n",
    "    return pd.DataFrame(parameters_list)"
   ],
   "outputs": [],
   "execution_count": 51
  },
  {
   "metadata": {
    "ExecuteTime": {
     "end_time": "2024-11-27T15:52:59.790603Z",
     "start_time": "2024-11-27T15:52:59.767598Z"
    }
   },
   "cell_type": "code",
   "source": "make_parameters_df(10, parameters_grid)",
   "id": "e8a96a72d9b7d243",
   "outputs": [
    {
     "data": {
      "text/plain": [
       "   n_layers  n_neurons  learning_rate  dropout  epochs\n",
       "0         2        256        0.00001      0.2      20\n",
       "1         1         64        0.00010      0.1      20\n",
       "2         1         64        0.00003      0.1      20\n",
       "3         2        128        0.00001      0.1      20\n",
       "4         2        128        0.00010      0.1      20\n",
       "5         2         64        0.00010      0.2      20\n",
       "6         3         64        0.00003      0.0      20\n",
       "7         2        128        0.00010      0.0      20\n",
       "8         3         64        0.00003      0.1      20\n",
       "9         2        128        0.00001      0.2      20"
      ],
      "text/html": [
       "<div>\n",
       "<style scoped>\n",
       "    .dataframe tbody tr th:only-of-type {\n",
       "        vertical-align: middle;\n",
       "    }\n",
       "\n",
       "    .dataframe tbody tr th {\n",
       "        vertical-align: top;\n",
       "    }\n",
       "\n",
       "    .dataframe thead th {\n",
       "        text-align: right;\n",
       "    }\n",
       "</style>\n",
       "<table border=\"1\" class=\"dataframe\">\n",
       "  <thead>\n",
       "    <tr style=\"text-align: right;\">\n",
       "      <th></th>\n",
       "      <th>n_layers</th>\n",
       "      <th>n_neurons</th>\n",
       "      <th>learning_rate</th>\n",
       "      <th>dropout</th>\n",
       "      <th>epochs</th>\n",
       "    </tr>\n",
       "  </thead>\n",
       "  <tbody>\n",
       "    <tr>\n",
       "      <th>0</th>\n",
       "      <td>2</td>\n",
       "      <td>256</td>\n",
       "      <td>0.00001</td>\n",
       "      <td>0.2</td>\n",
       "      <td>20</td>\n",
       "    </tr>\n",
       "    <tr>\n",
       "      <th>1</th>\n",
       "      <td>1</td>\n",
       "      <td>64</td>\n",
       "      <td>0.00010</td>\n",
       "      <td>0.1</td>\n",
       "      <td>20</td>\n",
       "    </tr>\n",
       "    <tr>\n",
       "      <th>2</th>\n",
       "      <td>1</td>\n",
       "      <td>64</td>\n",
       "      <td>0.00003</td>\n",
       "      <td>0.1</td>\n",
       "      <td>20</td>\n",
       "    </tr>\n",
       "    <tr>\n",
       "      <th>3</th>\n",
       "      <td>2</td>\n",
       "      <td>128</td>\n",
       "      <td>0.00001</td>\n",
       "      <td>0.1</td>\n",
       "      <td>20</td>\n",
       "    </tr>\n",
       "    <tr>\n",
       "      <th>4</th>\n",
       "      <td>2</td>\n",
       "      <td>128</td>\n",
       "      <td>0.00010</td>\n",
       "      <td>0.1</td>\n",
       "      <td>20</td>\n",
       "    </tr>\n",
       "    <tr>\n",
       "      <th>5</th>\n",
       "      <td>2</td>\n",
       "      <td>64</td>\n",
       "      <td>0.00010</td>\n",
       "      <td>0.2</td>\n",
       "      <td>20</td>\n",
       "    </tr>\n",
       "    <tr>\n",
       "      <th>6</th>\n",
       "      <td>3</td>\n",
       "      <td>64</td>\n",
       "      <td>0.00003</td>\n",
       "      <td>0.0</td>\n",
       "      <td>20</td>\n",
       "    </tr>\n",
       "    <tr>\n",
       "      <th>7</th>\n",
       "      <td>2</td>\n",
       "      <td>128</td>\n",
       "      <td>0.00010</td>\n",
       "      <td>0.0</td>\n",
       "      <td>20</td>\n",
       "    </tr>\n",
       "    <tr>\n",
       "      <th>8</th>\n",
       "      <td>3</td>\n",
       "      <td>64</td>\n",
       "      <td>0.00003</td>\n",
       "      <td>0.1</td>\n",
       "      <td>20</td>\n",
       "    </tr>\n",
       "    <tr>\n",
       "      <th>9</th>\n",
       "      <td>2</td>\n",
       "      <td>128</td>\n",
       "      <td>0.00001</td>\n",
       "      <td>0.2</td>\n",
       "      <td>20</td>\n",
       "    </tr>\n",
       "  </tbody>\n",
       "</table>\n",
       "</div>"
      ]
     },
     "execution_count": 54,
     "metadata": {},
     "output_type": "execute_result"
    }
   ],
   "execution_count": 54
  }
 ],
 "metadata": {
  "kernelspec": {
   "display_name": "Python 3",
   "language": "python",
   "name": "python3"
  },
  "language_info": {
   "codemirror_mode": {
    "name": "ipython",
    "version": 2
   },
   "file_extension": ".py",
   "mimetype": "text/x-python",
   "name": "python",
   "nbconvert_exporter": "python",
   "pygments_lexer": "ipython2",
   "version": "2.7.6"
  }
 },
 "nbformat": 4,
 "nbformat_minor": 5
}
