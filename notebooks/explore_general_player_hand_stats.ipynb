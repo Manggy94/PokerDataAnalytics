{
 "cells": [
  {
   "cell_type": "code",
   "id": "initial_id",
   "metadata": {
    "collapsed": true,
    "ExecuteTime": {
     "end_time": "2024-10-12T23:17:39.568823Z",
     "start_time": "2024-10-12T23:17:39.552999Z"
    }
   },
   "source": [
    "from dotenv import load_dotenv\n",
    "load_dotenv()"
   ],
   "outputs": [
    {
     "data": {
      "text/plain": [
       "True"
      ]
     },
     "execution_count": 9,
     "metadata": {},
     "output_type": "execute_result"
    }
   ],
   "execution_count": 9
  },
  {
   "metadata": {
    "ExecuteTime": {
     "end_time": "2024-10-12T23:17:39.600185Z",
     "start_time": "2024-10-12T23:17:39.584457Z"
    }
   },
   "cell_type": "code",
   "source": [
    "from src.data.loader import DataLoader\n",
    "loader = DataLoader()"
   ],
   "id": "51029d6a36a3695f",
   "outputs": [],
   "execution_count": 10
  },
  {
   "metadata": {
    "ExecuteTime": {
     "end_time": "2024-10-12T23:17:42.573534Z",
     "start_time": "2024-10-12T23:17:39.826169Z"
    }
   },
   "cell_type": "code",
   "source": "general_player_hand_stats = loader.load_general_player_hand_stats()",
   "id": "5921e90953f67175",
   "outputs": [
    {
     "ename": "AttributeError",
     "evalue": "'RawDataLoader' object has no attribute 'load_raw_action_moves'",
     "output_type": "error",
     "traceback": [
      "\u001B[1;31m---------------------------------------------------------------------------\u001B[0m",
      "\u001B[1;31mAttributeError\u001B[0m                            Traceback (most recent call last)",
      "Cell \u001B[1;32mIn[15], line 1\u001B[0m\n\u001B[1;32m----> 1\u001B[0m general_player_hand_stats \u001B[38;5;241m=\u001B[39m \u001B[43mloader\u001B[49m\u001B[38;5;241;43m.\u001B[39;49m\u001B[43mload_general_player_hand_stats\u001B[49m\u001B[43m(\u001B[49m\u001B[43m)\u001B[49m\n",
      "File \u001B[1;32m~\\projects\\PokerDataAnalytics\\src\\data\\loader.py:60\u001B[0m, in \u001B[0;36mload_general_player_hand_stats\u001B[1;34m(self)\u001B[0m\n\u001B[0;32m     59\u001B[0m \u001B[38;5;28;01mdef\u001B[39;00m \u001B[38;5;21mload_general_player_hand_stats\u001B[39m(\u001B[38;5;28mself\u001B[39m):\n\u001B[1;32m---> 60\u001B[0m     \u001B[38;5;28;01mreturn\u001B[39;00m GeneralPlayerHandStatsLoader()\u001B[38;5;241m.\u001B[39mfit_transform(\u001B[38;5;28;01mNone\u001B[39;00m)\n",
      "\u001B[1;31mAttributeError\u001B[0m: 'RawDataLoader' object has no attribute 'load_raw_action_moves'"
     ]
    }
   ],
   "execution_count": 15
  },
  {
   "metadata": {},
   "cell_type": "code",
   "source": "general_player_hand_stats.head()",
   "id": "14fc177a87af8b21",
   "outputs": [],
   "execution_count": null
  },
  {
   "metadata": {},
   "cell_type": "code",
   "source": "general_player_hand_stats.shape",
   "id": "5e5d125b5ca13641",
   "outputs": [],
   "execution_count": null
  },
  {
   "metadata": {},
   "cell_type": "code",
   "source": "general_player_hand_stats.describe()\n",
   "id": "f9a2e225bc41b6e7",
   "outputs": [],
   "execution_count": null
  },
  {
   "metadata": {},
   "cell_type": "code",
   "source": "",
   "id": "da0b526c04d37b23",
   "outputs": [],
   "execution_count": null
  },
  {
   "metadata": {},
   "cell_type": "code",
   "source": "general_player_hand_stats.dtypes",
   "id": "e020ee5da0a3cd6b",
   "outputs": [],
   "execution_count": null
  }
 ],
 "metadata": {
  "kernelspec": {
   "display_name": "Python 3",
   "language": "python",
   "name": "python3"
  },
  "language_info": {
   "codemirror_mode": {
    "name": "ipython",
    "version": 2
   },
   "file_extension": ".py",
   "mimetype": "text/x-python",
   "name": "python",
   "nbconvert_exporter": "python",
   "pygments_lexer": "ipython2",
   "version": "2.7.6"
  }
 },
 "nbformat": 4,
 "nbformat_minor": 5
}
