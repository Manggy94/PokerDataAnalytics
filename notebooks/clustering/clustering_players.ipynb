{
 "cells": [
  {
   "cell_type": "code",
   "id": "initial_id",
   "metadata": {
    "collapsed": true
   },
   "source": [
    "import pandas as pd\n",
    "from dotenv import load_dotenv\n",
    "import numpy as np\n",
    "from sklearn.cluster import KMeans, MeanShift, estimate_bandwidth\n",
    "import os\n",
    "os.environ[\"LOKY_MAX_CPU_COUNT\"] = \"4\"\n",
    "load_dotenv()"
   ],
   "outputs": [],
   "execution_count": null
  },
  {
   "metadata": {},
   "cell_type": "code",
   "source": [
    "import matplotlib.pyplot as plt\n",
    "from src.data.loader import DataLoader\n"
   ],
   "id": "e77d13b432c407f0",
   "outputs": [],
   "execution_count": null
  },
  {
   "metadata": {},
   "cell_type": "code",
   "source": [
    "data_loader = DataLoader()\n",
    "players_stats = data_loader.load_player_stats()\n",
    "print(players_stats.info())\n",
    "players_stats.head()"
   ],
   "id": "585063c23be3dfbb",
   "outputs": [],
   "execution_count": null
  },
  {
   "metadata": {},
   "cell_type": "code",
   "source": "players_stats.describe()",
   "id": "839c4ba4fe01cd32",
   "outputs": [],
   "execution_count": null
  },
  {
   "metadata": {},
   "cell_type": "code",
   "source": [
    "from src.utils.clustering.players_stats import PlayersClusterFinder \n",
    "pcf = PlayersClusterFinder(min_hands=80)\n",
    "pcf.fit(players_stats)"
   ],
   "id": "dede7c61698c6028",
   "outputs": [],
   "execution_count": null
  },
  {
   "metadata": {},
   "cell_type": "code",
   "source": [
    "players_clusters = pcf.transform(players_stats)\n",
    "players_clusters"
   ],
   "id": "ea76fd9270530331",
   "outputs": [],
   "execution_count": null
  },
  {
   "metadata": {},
   "cell_type": "code",
   "source": "players_stats[players_clusters == 5]\n",
   "id": "ea131d68f13dd016",
   "outputs": [],
   "execution_count": null
  },
  {
   "metadata": {},
   "cell_type": "code",
   "source": "pcf.ms_cluster_centers",
   "id": "dcced05a78d6fc0d",
   "outputs": [],
   "execution_count": null
  },
  {
   "metadata": {},
   "cell_type": "code",
   "source": [
    "from src.utils.pca import PCAnalyser\n",
    "analyzer = PCAnalyser(players_stats)\n",
    "analyzer.write_pca_report()"
   ],
   "id": "44ad7e0ac173e466",
   "outputs": [],
   "execution_count": null
  },
  {
   "metadata": {},
   "cell_type": "code",
   "source": "",
   "id": "4fede63f57df3e8b",
   "outputs": [],
   "execution_count": null
  }
 ],
 "metadata": {
  "kernelspec": {
   "display_name": "Python 3",
   "language": "python",
   "name": "python3"
  },
  "language_info": {
   "codemirror_mode": {
    "name": "ipython",
    "version": 2
   },
   "file_extension": ".py",
   "mimetype": "text/x-python",
   "name": "python",
   "nbconvert_exporter": "python",
   "pygments_lexer": "ipython2",
   "version": "2.7.6"
  }
 },
 "nbformat": 4,
 "nbformat_minor": 5
}
