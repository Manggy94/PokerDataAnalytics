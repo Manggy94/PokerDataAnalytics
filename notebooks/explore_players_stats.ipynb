{
 "cells": [
  {
   "cell_type": "code",
   "id": "initial_id",
   "metadata": {
    "collapsed": true,
    "ExecuteTime": {
     "end_time": "2024-10-07T11:08:41.378722Z",
     "start_time": "2024-10-07T11:08:41.364702Z"
    }
   },
   "source": [
    "from dotenv import load_dotenv\n",
    "load_dotenv()"
   ],
   "outputs": [
    {
     "data": {
      "text/plain": [
       "True"
      ]
     },
     "execution_count": 2,
     "metadata": {},
     "output_type": "execute_result"
    }
   ],
   "execution_count": 2
  },
  {
   "metadata": {
    "ExecuteTime": {
     "end_time": "2024-10-07T11:08:42.045802Z",
     "start_time": "2024-10-07T11:08:41.381703Z"
    }
   },
   "cell_type": "code",
   "source": [
    "from src.data.loader import DataLoader\n",
    "\n",
    "data_loader = DataLoader()"
   ],
   "id": "258756487afe3ba7",
   "outputs": [],
   "execution_count": 3
  },
  {
   "metadata": {
    "ExecuteTime": {
     "end_time": "2024-10-07T11:08:42.166443Z",
     "start_time": "2024-10-07T11:08:42.048233Z"
    }
   },
   "cell_type": "code",
   "source": [
    "player_stats = data_loader.load_player_stats()\n",
    "player_stats.shape"
   ],
   "id": "28b34c671a2d5f3e",
   "outputs": [
    {
     "data": {
      "text/plain": [
       "(67358, 8)"
      ]
     },
     "execution_count": 4,
     "metadata": {},
     "output_type": "execute_result"
    }
   ],
   "execution_count": 4
  },
  {
   "metadata": {
    "ExecuteTime": {
     "end_time": "2024-10-07T11:08:42.201805Z",
     "start_time": "2024-10-07T11:08:42.169274Z"
    }
   },
   "cell_type": "code",
   "source": "player_stats.head()",
   "id": "d77958a7389f2e0f",
   "outputs": [
    {
     "data": {
      "text/plain": [
       "           name       id  cnt_hands_played  general_stats  preflop_stats  \\\n",
       "0  --------N---  23147.0               1.0          359.0            4.0   \n",
       "1  -----DAV----  57271.0               8.0          363.0           12.0   \n",
       "2     ----_----  54455.0              37.0          370.0           11.0   \n",
       "3    ----LB----      NaN               NaN            NaN            NaN   \n",
       "4   --- DAN ---  16469.0               1.0          366.0            7.0   \n",
       "\n",
       "   flop_stats  turn_stats  river_stats  \n",
       "0         3.0         3.0          4.0  \n",
       "1        10.0        11.0         12.0  \n",
       "2         8.0         8.0         10.0  \n",
       "3         NaN         NaN          NaN  \n",
       "4         9.0        13.0         11.0  "
      ],
      "text/html": [
       "<div>\n",
       "<style scoped>\n",
       "    .dataframe tbody tr th:only-of-type {\n",
       "        vertical-align: middle;\n",
       "    }\n",
       "\n",
       "    .dataframe tbody tr th {\n",
       "        vertical-align: top;\n",
       "    }\n",
       "\n",
       "    .dataframe thead th {\n",
       "        text-align: right;\n",
       "    }\n",
       "</style>\n",
       "<table border=\"1\" class=\"dataframe\">\n",
       "  <thead>\n",
       "    <tr style=\"text-align: right;\">\n",
       "      <th></th>\n",
       "      <th>name</th>\n",
       "      <th>id</th>\n",
       "      <th>cnt_hands_played</th>\n",
       "      <th>general_stats</th>\n",
       "      <th>preflop_stats</th>\n",
       "      <th>flop_stats</th>\n",
       "      <th>turn_stats</th>\n",
       "      <th>river_stats</th>\n",
       "    </tr>\n",
       "  </thead>\n",
       "  <tbody>\n",
       "    <tr>\n",
       "      <th>0</th>\n",
       "      <td>--------N---</td>\n",
       "      <td>23147.0</td>\n",
       "      <td>1.0</td>\n",
       "      <td>359.0</td>\n",
       "      <td>4.0</td>\n",
       "      <td>3.0</td>\n",
       "      <td>3.0</td>\n",
       "      <td>4.0</td>\n",
       "    </tr>\n",
       "    <tr>\n",
       "      <th>1</th>\n",
       "      <td>-----DAV----</td>\n",
       "      <td>57271.0</td>\n",
       "      <td>8.0</td>\n",
       "      <td>363.0</td>\n",
       "      <td>12.0</td>\n",
       "      <td>10.0</td>\n",
       "      <td>11.0</td>\n",
       "      <td>12.0</td>\n",
       "    </tr>\n",
       "    <tr>\n",
       "      <th>2</th>\n",
       "      <td>----_----</td>\n",
       "      <td>54455.0</td>\n",
       "      <td>37.0</td>\n",
       "      <td>370.0</td>\n",
       "      <td>11.0</td>\n",
       "      <td>8.0</td>\n",
       "      <td>8.0</td>\n",
       "      <td>10.0</td>\n",
       "    </tr>\n",
       "    <tr>\n",
       "      <th>3</th>\n",
       "      <td>----LB----</td>\n",
       "      <td>NaN</td>\n",
       "      <td>NaN</td>\n",
       "      <td>NaN</td>\n",
       "      <td>NaN</td>\n",
       "      <td>NaN</td>\n",
       "      <td>NaN</td>\n",
       "      <td>NaN</td>\n",
       "    </tr>\n",
       "    <tr>\n",
       "      <th>4</th>\n",
       "      <td>--- DAN ---</td>\n",
       "      <td>16469.0</td>\n",
       "      <td>1.0</td>\n",
       "      <td>366.0</td>\n",
       "      <td>7.0</td>\n",
       "      <td>9.0</td>\n",
       "      <td>13.0</td>\n",
       "      <td>11.0</td>\n",
       "    </tr>\n",
       "  </tbody>\n",
       "</table>\n",
       "</div>"
      ]
     },
     "execution_count": 5,
     "metadata": {},
     "output_type": "execute_result"
    }
   ],
   "execution_count": 5
  },
  {
   "metadata": {
    "ExecuteTime": {
     "end_time": "2024-10-07T11:08:42.508172Z",
     "start_time": "2024-10-07T11:08:42.204408Z"
    }
   },
   "cell_type": "code",
   "source": [
    "general_player_stats = data_loader.load_general_player_stats()\n",
    "general_player_stats.shape"
   ],
   "id": "c2ab909c82adaadb",
   "outputs": [
    {
     "data": {
      "text/plain": [
       "(55694, 11)"
      ]
     },
     "execution_count": 6,
     "metadata": {},
     "output_type": "execute_result"
    }
   ],
   "execution_count": 6
  },
  {
   "metadata": {
    "ExecuteTime": {
     "end_time": "2024-10-07T11:08:42.530759Z",
     "start_time": "2024-10-07T11:08:42.510171Z"
    }
   },
   "cell_type": "code",
   "source": "general_player_stats.head()",
   "id": "b4c7888eda3f071a",
   "outputs": [
    {
     "data": {
      "text/plain": [
       "           name       id  cnt_hands_played  preflop_stats  flop_stats  \\\n",
       "0  --------N---  23147.0                 1            4.0         3.0   \n",
       "1  -----DAV----  57271.0                 8           12.0        10.0   \n",
       "2     ----_----  54455.0                37           11.0         8.0   \n",
       "3   --- DAN ---  16469.0                 1            7.0         9.0   \n",
       "4      ---3B---  19727.0                17            8.0         5.0   \n",
       "\n",
       "   turn_stats  river_stats  player  cnt_went_to_showdown  cnt_is_hero  \\\n",
       "0         3.0          4.0   23287                     1            0   \n",
       "1        11.0         12.0   57746                     1            0   \n",
       "2         8.0         10.0   54919                     4            0   \n",
       "3        13.0         11.0   16611                     0            0   \n",
       "4         9.0          8.0   19867                     0            0   \n",
       "\n",
       "   cnt_won_hand  \n",
       "0             0  \n",
       "1             0  \n",
       "2             4  \n",
       "3             0  \n",
       "4             1  "
      ],
      "text/html": [
       "<div>\n",
       "<style scoped>\n",
       "    .dataframe tbody tr th:only-of-type {\n",
       "        vertical-align: middle;\n",
       "    }\n",
       "\n",
       "    .dataframe tbody tr th {\n",
       "        vertical-align: top;\n",
       "    }\n",
       "\n",
       "    .dataframe thead th {\n",
       "        text-align: right;\n",
       "    }\n",
       "</style>\n",
       "<table border=\"1\" class=\"dataframe\">\n",
       "  <thead>\n",
       "    <tr style=\"text-align: right;\">\n",
       "      <th></th>\n",
       "      <th>name</th>\n",
       "      <th>id</th>\n",
       "      <th>cnt_hands_played</th>\n",
       "      <th>preflop_stats</th>\n",
       "      <th>flop_stats</th>\n",
       "      <th>turn_stats</th>\n",
       "      <th>river_stats</th>\n",
       "      <th>player</th>\n",
       "      <th>cnt_went_to_showdown</th>\n",
       "      <th>cnt_is_hero</th>\n",
       "      <th>cnt_won_hand</th>\n",
       "    </tr>\n",
       "  </thead>\n",
       "  <tbody>\n",
       "    <tr>\n",
       "      <th>0</th>\n",
       "      <td>--------N---</td>\n",
       "      <td>23147.0</td>\n",
       "      <td>1</td>\n",
       "      <td>4.0</td>\n",
       "      <td>3.0</td>\n",
       "      <td>3.0</td>\n",
       "      <td>4.0</td>\n",
       "      <td>23287</td>\n",
       "      <td>1</td>\n",
       "      <td>0</td>\n",
       "      <td>0</td>\n",
       "    </tr>\n",
       "    <tr>\n",
       "      <th>1</th>\n",
       "      <td>-----DAV----</td>\n",
       "      <td>57271.0</td>\n",
       "      <td>8</td>\n",
       "      <td>12.0</td>\n",
       "      <td>10.0</td>\n",
       "      <td>11.0</td>\n",
       "      <td>12.0</td>\n",
       "      <td>57746</td>\n",
       "      <td>1</td>\n",
       "      <td>0</td>\n",
       "      <td>0</td>\n",
       "    </tr>\n",
       "    <tr>\n",
       "      <th>2</th>\n",
       "      <td>----_----</td>\n",
       "      <td>54455.0</td>\n",
       "      <td>37</td>\n",
       "      <td>11.0</td>\n",
       "      <td>8.0</td>\n",
       "      <td>8.0</td>\n",
       "      <td>10.0</td>\n",
       "      <td>54919</td>\n",
       "      <td>4</td>\n",
       "      <td>0</td>\n",
       "      <td>4</td>\n",
       "    </tr>\n",
       "    <tr>\n",
       "      <th>3</th>\n",
       "      <td>--- DAN ---</td>\n",
       "      <td>16469.0</td>\n",
       "      <td>1</td>\n",
       "      <td>7.0</td>\n",
       "      <td>9.0</td>\n",
       "      <td>13.0</td>\n",
       "      <td>11.0</td>\n",
       "      <td>16611</td>\n",
       "      <td>0</td>\n",
       "      <td>0</td>\n",
       "      <td>0</td>\n",
       "    </tr>\n",
       "    <tr>\n",
       "      <th>4</th>\n",
       "      <td>---3B---</td>\n",
       "      <td>19727.0</td>\n",
       "      <td>17</td>\n",
       "      <td>8.0</td>\n",
       "      <td>5.0</td>\n",
       "      <td>9.0</td>\n",
       "      <td>8.0</td>\n",
       "      <td>19867</td>\n",
       "      <td>0</td>\n",
       "      <td>0</td>\n",
       "      <td>1</td>\n",
       "    </tr>\n",
       "  </tbody>\n",
       "</table>\n",
       "</div>"
      ]
     },
     "execution_count": 7,
     "metadata": {},
     "output_type": "execute_result"
    }
   ],
   "execution_count": 7
  }
 ],
 "metadata": {
  "kernelspec": {
   "display_name": "Python 3",
   "language": "python",
   "name": "python3"
  },
  "language_info": {
   "codemirror_mode": {
    "name": "ipython",
    "version": 2
   },
   "file_extension": ".py",
   "mimetype": "text/x-python",
   "name": "python",
   "nbconvert_exporter": "python",
   "pygments_lexer": "ipython2",
   "version": "2.7.6"
  }
 },
 "nbformat": 4,
 "nbformat_minor": 5
}
