{
 "cells": [
  {
   "cell_type": "code",
   "id": "initial_id",
   "metadata": {
    "collapsed": true,
    "ExecuteTime": {
     "end_time": "2024-10-03T14:46:07.757556Z",
     "start_time": "2024-10-03T14:46:07.721388Z"
    }
   },
   "source": [
    "from dotenv import load_dotenv\n",
    "load_dotenv()"
   ],
   "outputs": [
    {
     "data": {
      "text/plain": [
       "True"
      ]
     },
     "execution_count": 1,
     "metadata": {},
     "output_type": "execute_result"
    }
   ],
   "execution_count": 1
  },
  {
   "metadata": {
    "ExecuteTime": {
     "end_time": "2024-10-03T14:46:10.201906Z",
     "start_time": "2024-10-03T14:46:07.817935Z"
    }
   },
   "cell_type": "code",
   "source": [
    "from src.data.loader import DataLoader\n",
    "data_loader = DataLoader()"
   ],
   "id": "edeb7ad3aeeb278e",
   "outputs": [],
   "execution_count": 2
  },
  {
   "metadata": {
    "ExecuteTime": {
     "end_time": "2024-10-04T10:44:07.310247Z",
     "start_time": "2024-10-04T10:43:58.906437Z"
    }
   },
   "cell_type": "code",
   "source": [
    "flop_player_hand_stats = data_loader.load_raw_flop_player_hand_stats()\n",
    "flop_player_hand_stats.shape"
   ],
   "id": "685b261ce5a5ba99",
   "outputs": [
    {
     "data": {
      "text/plain": [
       "(2231904, 51)"
      ]
     },
     "execution_count": 3,
     "metadata": {},
     "output_type": "execute_result"
    }
   ],
   "execution_count": 3
  },
  {
   "metadata": {
    "ExecuteTime": {
     "end_time": "2024-10-04T10:44:07.884295Z",
     "start_time": "2024-10-04T10:44:07.839477Z"
    }
   },
   "cell_type": "code",
   "source": "flop_player_hand_stats.head()",
   "id": "1c5f4e25ade4a4bb",
   "outputs": [
    {
     "data": {
      "text/plain": [
       "        id  player  hand_history  flag_saw  flag_first_to_talk  \\\n",
       "0       44     163          2473      True                True   \n",
       "1        5     166          2466     False               False   \n",
       "2        6     167          2466      True                True   \n",
       "3  1590713   63020        279336      True                True   \n",
       "4        8     163          2467     False               False   \n",
       "\n",
       "   flag_has_position  flag_bet  flag_open_opportunity  flag_open  \\\n",
       "0              False     False                   True      False   \n",
       "1              False     False                  False      False   \n",
       "2              False     False                   True      False   \n",
       "3              False     False                   True      False   \n",
       "4              False     False                  False      False   \n",
       "\n",
       "   flag_cbet_opportunity  ...  ratio_bet_made  ratio_first_raise_made  \\\n",
       "0                  False  ...             0.0                     0.0   \n",
       "1                  False  ...             0.0                     0.0   \n",
       "2                  False  ...             0.0                     0.0   \n",
       "3                  False  ...             0.0                     0.0   \n",
       "4                  False  ...             0.0                     0.0   \n",
       "\n",
       "   ratio_second_raise_made  total_bet_amount  move_facing_1bet  \\\n",
       "0                      0.0               0.0               NaN   \n",
       "1                      0.0               0.0               NaN   \n",
       "2                      0.0             350.0               3.0   \n",
       "3                      0.0            1865.0               3.0   \n",
       "4                      0.0               0.0               NaN   \n",
       "\n",
       "   move_facing_2bet  move_facing_3bet  move_facing_4bet  move_facing_cbet  \\\n",
       "0               NaN               NaN               NaN               NaN   \n",
       "1               NaN               NaN               NaN               NaN   \n",
       "2               NaN               NaN               NaN               3.0   \n",
       "3               NaN               NaN               NaN               3.0   \n",
       "4               NaN               NaN               NaN               NaN   \n",
       "\n",
       "   move_facing_donk_bet  \n",
       "0                   NaN  \n",
       "1                   NaN  \n",
       "2                   NaN  \n",
       "3                   NaN  \n",
       "4                   NaN  \n",
       "\n",
       "[5 rows x 51 columns]"
      ],
      "text/html": [
       "<div>\n",
       "<style scoped>\n",
       "    .dataframe tbody tr th:only-of-type {\n",
       "        vertical-align: middle;\n",
       "    }\n",
       "\n",
       "    .dataframe tbody tr th {\n",
       "        vertical-align: top;\n",
       "    }\n",
       "\n",
       "    .dataframe thead th {\n",
       "        text-align: right;\n",
       "    }\n",
       "</style>\n",
       "<table border=\"1\" class=\"dataframe\">\n",
       "  <thead>\n",
       "    <tr style=\"text-align: right;\">\n",
       "      <th></th>\n",
       "      <th>id</th>\n",
       "      <th>player</th>\n",
       "      <th>hand_history</th>\n",
       "      <th>flag_saw</th>\n",
       "      <th>flag_first_to_talk</th>\n",
       "      <th>flag_has_position</th>\n",
       "      <th>flag_bet</th>\n",
       "      <th>flag_open_opportunity</th>\n",
       "      <th>flag_open</th>\n",
       "      <th>flag_cbet_opportunity</th>\n",
       "      <th>...</th>\n",
       "      <th>ratio_bet_made</th>\n",
       "      <th>ratio_first_raise_made</th>\n",
       "      <th>ratio_second_raise_made</th>\n",
       "      <th>total_bet_amount</th>\n",
       "      <th>move_facing_1bet</th>\n",
       "      <th>move_facing_2bet</th>\n",
       "      <th>move_facing_3bet</th>\n",
       "      <th>move_facing_4bet</th>\n",
       "      <th>move_facing_cbet</th>\n",
       "      <th>move_facing_donk_bet</th>\n",
       "    </tr>\n",
       "  </thead>\n",
       "  <tbody>\n",
       "    <tr>\n",
       "      <th>0</th>\n",
       "      <td>44</td>\n",
       "      <td>163</td>\n",
       "      <td>2473</td>\n",
       "      <td>True</td>\n",
       "      <td>True</td>\n",
       "      <td>False</td>\n",
       "      <td>False</td>\n",
       "      <td>True</td>\n",
       "      <td>False</td>\n",
       "      <td>False</td>\n",
       "      <td>...</td>\n",
       "      <td>0.0</td>\n",
       "      <td>0.0</td>\n",
       "      <td>0.0</td>\n",
       "      <td>0.0</td>\n",
       "      <td>NaN</td>\n",
       "      <td>NaN</td>\n",
       "      <td>NaN</td>\n",
       "      <td>NaN</td>\n",
       "      <td>NaN</td>\n",
       "      <td>NaN</td>\n",
       "    </tr>\n",
       "    <tr>\n",
       "      <th>1</th>\n",
       "      <td>5</td>\n",
       "      <td>166</td>\n",
       "      <td>2466</td>\n",
       "      <td>False</td>\n",
       "      <td>False</td>\n",
       "      <td>False</td>\n",
       "      <td>False</td>\n",
       "      <td>False</td>\n",
       "      <td>False</td>\n",
       "      <td>False</td>\n",
       "      <td>...</td>\n",
       "      <td>0.0</td>\n",
       "      <td>0.0</td>\n",
       "      <td>0.0</td>\n",
       "      <td>0.0</td>\n",
       "      <td>NaN</td>\n",
       "      <td>NaN</td>\n",
       "      <td>NaN</td>\n",
       "      <td>NaN</td>\n",
       "      <td>NaN</td>\n",
       "      <td>NaN</td>\n",
       "    </tr>\n",
       "    <tr>\n",
       "      <th>2</th>\n",
       "      <td>6</td>\n",
       "      <td>167</td>\n",
       "      <td>2466</td>\n",
       "      <td>True</td>\n",
       "      <td>True</td>\n",
       "      <td>False</td>\n",
       "      <td>False</td>\n",
       "      <td>True</td>\n",
       "      <td>False</td>\n",
       "      <td>False</td>\n",
       "      <td>...</td>\n",
       "      <td>0.0</td>\n",
       "      <td>0.0</td>\n",
       "      <td>0.0</td>\n",
       "      <td>350.0</td>\n",
       "      <td>3.0</td>\n",
       "      <td>NaN</td>\n",
       "      <td>NaN</td>\n",
       "      <td>NaN</td>\n",
       "      <td>3.0</td>\n",
       "      <td>NaN</td>\n",
       "    </tr>\n",
       "    <tr>\n",
       "      <th>3</th>\n",
       "      <td>1590713</td>\n",
       "      <td>63020</td>\n",
       "      <td>279336</td>\n",
       "      <td>True</td>\n",
       "      <td>True</td>\n",
       "      <td>False</td>\n",
       "      <td>False</td>\n",
       "      <td>True</td>\n",
       "      <td>False</td>\n",
       "      <td>False</td>\n",
       "      <td>...</td>\n",
       "      <td>0.0</td>\n",
       "      <td>0.0</td>\n",
       "      <td>0.0</td>\n",
       "      <td>1865.0</td>\n",
       "      <td>3.0</td>\n",
       "      <td>NaN</td>\n",
       "      <td>NaN</td>\n",
       "      <td>NaN</td>\n",
       "      <td>3.0</td>\n",
       "      <td>NaN</td>\n",
       "    </tr>\n",
       "    <tr>\n",
       "      <th>4</th>\n",
       "      <td>8</td>\n",
       "      <td>163</td>\n",
       "      <td>2467</td>\n",
       "      <td>False</td>\n",
       "      <td>False</td>\n",
       "      <td>False</td>\n",
       "      <td>False</td>\n",
       "      <td>False</td>\n",
       "      <td>False</td>\n",
       "      <td>False</td>\n",
       "      <td>...</td>\n",
       "      <td>0.0</td>\n",
       "      <td>0.0</td>\n",
       "      <td>0.0</td>\n",
       "      <td>0.0</td>\n",
       "      <td>NaN</td>\n",
       "      <td>NaN</td>\n",
       "      <td>NaN</td>\n",
       "      <td>NaN</td>\n",
       "      <td>NaN</td>\n",
       "      <td>NaN</td>\n",
       "    </tr>\n",
       "  </tbody>\n",
       "</table>\n",
       "<p>5 rows × 51 columns</p>\n",
       "</div>"
      ]
     },
     "execution_count": 4,
     "metadata": {},
     "output_type": "execute_result"
    }
   ],
   "execution_count": 4
  },
  {
   "metadata": {
    "ExecuteTime": {
     "end_time": "2024-10-04T10:46:07.185383Z",
     "start_time": "2024-10-04T10:46:07.172067Z"
    }
   },
   "cell_type": "code",
   "source": [
    "keywords = [\"move\", \"street\", \"sequence\"]\n",
    "[col for col in flop_player_hand_stats.columns if any(keyword in col for keyword in keywords)]"
   ],
   "id": "c348aa0be28926ca",
   "outputs": [
    {
     "data": {
      "text/plain": [
       "['actions_sequence',\n",
       " 'move_facing_1bet',\n",
       " 'move_facing_2bet',\n",
       " 'move_facing_3bet',\n",
       " 'move_facing_4bet',\n",
       " 'move_facing_cbet',\n",
       " 'move_facing_donk_bet']"
      ]
     },
     "execution_count": 5,
     "metadata": {},
     "output_type": "execute_result"
    }
   ],
   "execution_count": 5
  }
 ],
 "metadata": {
  "kernelspec": {
   "display_name": "Python 3",
   "language": "python",
   "name": "python3"
  },
  "language_info": {
   "codemirror_mode": {
    "name": "ipython",
    "version": 2
   },
   "file_extension": ".py",
   "mimetype": "text/x-python",
   "name": "python",
   "nbconvert_exporter": "python",
   "pygments_lexer": "ipython2",
   "version": "2.7.6"
  }
 },
 "nbformat": 4,
 "nbformat_minor": 5
}
