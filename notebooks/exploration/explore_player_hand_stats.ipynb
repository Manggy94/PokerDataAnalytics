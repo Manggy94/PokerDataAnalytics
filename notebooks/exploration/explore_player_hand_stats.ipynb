{
 "cells": [
  {
   "cell_type": "markdown",
   "id": "3c4d161c42f5c2de",
   "metadata": {},
   "source": [
    "# Introduction and Setup\n",
    "\n",
    "This notebook explores the player hand stats data.\n",
    "\n",
    "The data is loaded from the database and then explored to understand the data types, missing values, and distributions of the data.\n",
    "\n",
    "The data is then cleaned and prepared for further analysis."
   ]
  },
  {
   "cell_type": "markdown",
   "id": "10aad163cfe02469",
   "metadata": {},
   "source": [
    "First we have to load environment variables with dotenv."
   ]
  },
  {
   "metadata": {},
   "cell_type": "code",
   "source": [
    "from dotenv import load_dotenv\n",
    "load_dotenv()"
   ],
   "id": "initial_id",
   "outputs": [],
   "execution_count": null
  },
  {
   "metadata": {},
   "cell_type": "markdown",
   "source": "Then we can import necessary libraries and modules, and set some pandas options.",
   "id": "2bdffe97c3f05d11"
  },
  {
   "cell_type": "code",
   "id": "c86799bfb928616b",
   "metadata": {},
   "source": [
    "import pandas as pd\n",
    "import numpy as np\n",
    "from src.data.loader import DataLoader\n",
    "from src.graphs.exploration import ExplorationGraphs\n",
    "pd.set_option('display.max_columns', None)\n"
   ],
   "outputs": [],
   "execution_count": null
  },
  {
   "cell_type": "markdown",
   "id": "3a45b81cdaa0b3bc",
   "metadata": {},
   "source": [
    "# Data Loading"
   ]
  },
  {
   "cell_type": "markdown",
   "id": "e8696ef3291051a3",
   "metadata": {},
   "source": [
    "## Downloading the dataset using the DataLoader class"
   ]
  },
  {
   "cell_type": "code",
   "id": "d8e5044913a5692f",
   "metadata": {},
   "source": [
    "data_loader = DataLoader()\n",
    "data = data_loader.fast_load_player_hand_stats()\n"
   ],
   "outputs": [],
   "execution_count": null
  },
  {
   "cell_type": "markdown",
   "id": "4f9881d379b4e699",
   "metadata": {},
   "source": [
    "## Preliminary observations"
   ]
  },
  {
   "metadata": {},
   "cell_type": "code",
   "source": [
    "from src.explorers.player_hand_stats import PlayerHandStatsExplorer\n",
    "\n",
    "explorer = PlayerHandStatsExplorer(data)"
   ],
   "id": "dd2efbd28dce1e48",
   "outputs": [],
   "execution_count": null
  },
  {
   "cell_type": "code",
   "id": "e63c2bf7c0372491",
   "metadata": {},
   "source": "explorer.data.head()",
   "outputs": [],
   "execution_count": null
  },
  {
   "cell_type": "markdown",
   "id": "6528e67a69eaee14",
   "metadata": {},
   "source": [
    "## Observation of subgroups by data type (categorical, numerical)"
   ]
  },
  {
   "cell_type": "code",
   "id": "c9b77ffb2f729c56",
   "metadata": {},
   "source": "explorer.graphs_explorer.numerical_data.describe()",
   "outputs": [],
   "execution_count": null
  },
  {
   "metadata": {},
   "cell_type": "code",
   "source": "explorer.graphs_explorer.categorical_data.describe()",
   "id": "b8fed35498356d05",
   "outputs": [],
   "execution_count": null
  },
  {
   "metadata": {},
   "cell_type": "markdown",
   "source": "# Target columns analysis",
   "id": "34aafdbb89fcfc1d"
  },
  {
   "metadata": {},
   "cell_type": "code",
   "source": "explorer.targets.describe()",
   "id": "e774b6856632e65b",
   "outputs": [],
   "execution_count": null
  },
  {
   "metadata": {},
   "cell_type": "code",
   "source": "explorer.targets.select_dtypes(include='category').describe()",
   "id": "c0b49a540362ef56",
   "outputs": [],
   "execution_count": null
  },
  {
   "metadata": {},
   "cell_type": "markdown",
   "source": "### Comparaison des valeurs de fréquences pour les combos des joueurs et les combos théoriques",
   "id": "bd3326605732f451"
  },
  {
   "metadata": {},
   "cell_type": "code",
   "source": "explorer.full_report()",
   "id": "7d0feebbd4a78906",
   "outputs": [],
   "execution_count": null
  }
 ],
 "metadata": {
  "kernelspec": {
   "display_name": "Python 3 (ipykernel)",
   "language": "python",
   "name": "python3"
  },
  "language_info": {
   "codemirror_mode": {
    "name": "ipython",
    "version": 3
   },
   "file_extension": ".py",
   "mimetype": "text/x-python",
   "name": "python",
   "nbconvert_exporter": "python",
   "pygments_lexer": "ipython3",
   "version": "3.10.4"
  }
 },
 "nbformat": 4,
 "nbformat_minor": 5
}
