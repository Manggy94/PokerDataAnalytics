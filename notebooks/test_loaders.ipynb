{
 "cells": [
  {
   "metadata": {
    "ExecuteTime": {
     "end_time": "2024-10-12T23:03:57.228243Z",
     "start_time": "2024-10-12T23:03:57.192877Z"
    }
   },
   "cell_type": "code",
   "source": [
    "from dotenv import load_dotenv\n",
    "load_dotenv()"
   ],
   "id": "58fe71de27c2e030",
   "outputs": [
    {
     "data": {
      "text/plain": [
       "True"
      ]
     },
     "execution_count": 1,
     "metadata": {},
     "output_type": "execute_result"
    }
   ],
   "execution_count": 1
  },
  {
   "cell_type": "code",
   "id": "initial_id",
   "metadata": {
    "collapsed": true,
    "ExecuteTime": {
     "end_time": "2024-10-22T16:30:45.021019Z",
     "start_time": "2024-10-22T16:30:45.005445Z"
    }
   },
   "source": [
    "from src.loaders.raw.levels import RawLevelsLoader\n",
    "loader = RawLevelsLoader()\n",
    "levels = loader.fit_transform(\"\")"
   ],
   "outputs": [],
   "execution_count": 2
  },
  {
   "metadata": {
    "ExecuteTime": {
     "end_time": "2024-10-22T16:31:40.493630Z",
     "start_time": "2024-10-22T16:31:40.471841Z"
    }
   },
   "cell_type": "code",
   "source": "levels",
   "id": "29f07e99f2b57cb9",
   "outputs": [
    {
     "data": {
      "text/plain": [
       "id         int64\n",
       "value      int64\n",
       "sb       float64\n",
       "bb       float64\n",
       "ante     float64\n",
       "dtype: object"
      ]
     },
     "execution_count": 4,
     "metadata": {},
     "output_type": "execute_result"
    }
   ],
   "execution_count": 4
  }
 ],
 "metadata": {
  "kernelspec": {
   "display_name": "Python 3",
   "language": "python",
   "name": "python3"
  },
  "language_info": {
   "codemirror_mode": {
    "name": "ipython",
    "version": 2
   },
   "file_extension": ".py",
   "mimetype": "text/x-python",
   "name": "python",
   "nbconvert_exporter": "python",
   "pygments_lexer": "ipython2",
   "version": "2.7.6"
  }
 },
 "nbformat": 4,
 "nbformat_minor": 5
}
