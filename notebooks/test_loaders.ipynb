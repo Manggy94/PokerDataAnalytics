{
 "cells": [
  {
   "metadata": {
    "ExecuteTime": {
     "end_time": "2024-10-30T14:32:29.393740Z",
     "start_time": "2024-10-30T14:32:29.355666Z"
    }
   },
   "cell_type": "code",
   "source": [
    "from dotenv import load_dotenv\n",
    "load_dotenv()"
   ],
   "id": "58fe71de27c2e030",
   "outputs": [
    {
     "data": {
      "text/plain": [
       "True"
      ]
     },
     "execution_count": 1,
     "metadata": {},
     "output_type": "execute_result"
    }
   ],
   "execution_count": 1
  },
  {
   "cell_type": "code",
   "id": "initial_id",
   "metadata": {
    "collapsed": true,
    "ExecuteTime": {
     "end_time": "2024-10-30T14:32:30.884025Z",
     "start_time": "2024-10-30T14:32:29.440652Z"
    }
   },
   "source": [
    "from src.loaders.fixed.action_moves import ActionMovesLoader\n",
    "from src.loaders.raw.action_moves import RawActionMovesLoader\n",
    "loader = ActionMovesLoader()\n",
    "raw_loader = RawActionMovesLoader()\n",
    "action_moves = loader.fit_transform(\"\")\n",
    "raw_action_moves = raw_loader.fit_transform(\"\")"
   ],
   "outputs": [],
   "execution_count": 2
  },
  {
   "metadata": {
    "ExecuteTime": {
     "end_time": "2024-10-30T14:32:31.348832Z",
     "start_time": "2024-10-30T14:32:31.333334Z"
    }
   },
   "cell_type": "code",
   "source": "raw_action_moves.info()",
   "id": "29f07e99f2b57cb9",
   "outputs": [
    {
     "name": "stdout",
     "output_type": "stream",
     "text": [
      "<class 'pandas.core.frame.DataFrame'>\n",
      "Int64Index: 5 entries, 0 to 4\n",
      "Data columns (total 7 columns):\n",
      " #   Column        Non-Null Count  Dtype \n",
      "---  ------        --------------  ----- \n",
      " 0   id            5 non-null      int64 \n",
      " 1   name          5 non-null      object\n",
      " 2   symbol        5 non-null      object\n",
      " 3   verb          5 non-null      object\n",
      " 4   is_call_move  5 non-null      bool  \n",
      " 5   is_bet_move   5 non-null      bool  \n",
      " 6   is_vpip_move  5 non-null      bool  \n",
      "dtypes: bool(3), int64(1), object(3)\n",
      "memory usage: 215.0+ bytes\n"
     ]
    }
   ],
   "execution_count": 3
  },
  {
   "metadata": {
    "ExecuteTime": {
     "end_time": "2024-10-30T14:32:31.436838Z",
     "start_time": "2024-10-30T14:32:31.412758Z"
    }
   },
   "cell_type": "code",
   "source": "action_moves.info()",
   "id": "b85eb94b27b92dd",
   "outputs": [
    {
     "name": "stdout",
     "output_type": "stream",
     "text": [
      "<class 'pandas.core.frame.DataFrame'>\n",
      "Int64Index: 5 entries, 0 to 4\n",
      "Data columns (total 7 columns):\n",
      " #   Column        Non-Null Count  Dtype   \n",
      "---  ------        --------------  -----   \n",
      " 0   id            5 non-null      uint8   \n",
      " 1   name          5 non-null      category\n",
      " 2   symbol        5 non-null      category\n",
      " 3   verb          5 non-null      category\n",
      " 4   is_call_move  5 non-null      bool    \n",
      " 5   is_bet_move   5 non-null      bool    \n",
      " 6   is_vpip_move  5 non-null      bool    \n",
      "dtypes: bool(3), category(3), uint8(1)\n",
      "memory usage: 711.0 bytes\n"
     ]
    }
   ],
   "execution_count": 4
  },
  {
   "metadata": {
    "ExecuteTime": {
     "end_time": "2024-10-30T14:32:31.490134Z",
     "start_time": "2024-10-30T14:32:31.452472Z"
    }
   },
   "cell_type": "code",
   "source": "raw_action_moves",
   "id": "361c1543e6f94912",
   "outputs": [
    {
     "data": {
      "text/plain": [
       "   id   name symbol    verb  is_call_move  is_bet_move  is_vpip_move\n",
       "0   1   FOLD      F   folds         False        False         False\n",
       "1   2  CHECK      X  checks          True        False         False\n",
       "2   3   CALL      C   calls          True        False          True\n",
       "3   4    BET      B    bets         False         True          True\n",
       "4   5  RAISE      R  raises         False         True          True"
      ],
      "text/html": [
       "<div>\n",
       "<style scoped>\n",
       "    .dataframe tbody tr th:only-of-type {\n",
       "        vertical-align: middle;\n",
       "    }\n",
       "\n",
       "    .dataframe tbody tr th {\n",
       "        vertical-align: top;\n",
       "    }\n",
       "\n",
       "    .dataframe thead th {\n",
       "        text-align: right;\n",
       "    }\n",
       "</style>\n",
       "<table border=\"1\" class=\"dataframe\">\n",
       "  <thead>\n",
       "    <tr style=\"text-align: right;\">\n",
       "      <th></th>\n",
       "      <th>id</th>\n",
       "      <th>name</th>\n",
       "      <th>symbol</th>\n",
       "      <th>verb</th>\n",
       "      <th>is_call_move</th>\n",
       "      <th>is_bet_move</th>\n",
       "      <th>is_vpip_move</th>\n",
       "    </tr>\n",
       "  </thead>\n",
       "  <tbody>\n",
       "    <tr>\n",
       "      <th>0</th>\n",
       "      <td>1</td>\n",
       "      <td>FOLD</td>\n",
       "      <td>F</td>\n",
       "      <td>folds</td>\n",
       "      <td>False</td>\n",
       "      <td>False</td>\n",
       "      <td>False</td>\n",
       "    </tr>\n",
       "    <tr>\n",
       "      <th>1</th>\n",
       "      <td>2</td>\n",
       "      <td>CHECK</td>\n",
       "      <td>X</td>\n",
       "      <td>checks</td>\n",
       "      <td>True</td>\n",
       "      <td>False</td>\n",
       "      <td>False</td>\n",
       "    </tr>\n",
       "    <tr>\n",
       "      <th>2</th>\n",
       "      <td>3</td>\n",
       "      <td>CALL</td>\n",
       "      <td>C</td>\n",
       "      <td>calls</td>\n",
       "      <td>True</td>\n",
       "      <td>False</td>\n",
       "      <td>True</td>\n",
       "    </tr>\n",
       "    <tr>\n",
       "      <th>3</th>\n",
       "      <td>4</td>\n",
       "      <td>BET</td>\n",
       "      <td>B</td>\n",
       "      <td>bets</td>\n",
       "      <td>False</td>\n",
       "      <td>True</td>\n",
       "      <td>True</td>\n",
       "    </tr>\n",
       "    <tr>\n",
       "      <th>4</th>\n",
       "      <td>5</td>\n",
       "      <td>RAISE</td>\n",
       "      <td>R</td>\n",
       "      <td>raises</td>\n",
       "      <td>False</td>\n",
       "      <td>True</td>\n",
       "      <td>True</td>\n",
       "    </tr>\n",
       "  </tbody>\n",
       "</table>\n",
       "</div>"
      ]
     },
     "execution_count": 5,
     "metadata": {},
     "output_type": "execute_result"
    }
   ],
   "execution_count": 5
  },
  {
   "metadata": {
    "ExecuteTime": {
     "end_time": "2024-10-30T14:32:31.561064Z",
     "start_time": "2024-10-30T14:32:31.545590Z"
    }
   },
   "cell_type": "code",
   "source": "action_moves",
   "id": "cba9da77b769d9df",
   "outputs": [
    {
     "data": {
      "text/plain": [
       "   id   name symbol    verb  is_call_move  is_bet_move  is_vpip_move\n",
       "0   1   FOLD      F   folds         False        False         False\n",
       "1   2  CHECK      X  checks          True        False         False\n",
       "2   3   CALL      C   calls          True        False          True\n",
       "3   4    BET      B    bets         False         True          True\n",
       "4   5  RAISE      R  raises         False         True          True"
      ],
      "text/html": [
       "<div>\n",
       "<style scoped>\n",
       "    .dataframe tbody tr th:only-of-type {\n",
       "        vertical-align: middle;\n",
       "    }\n",
       "\n",
       "    .dataframe tbody tr th {\n",
       "        vertical-align: top;\n",
       "    }\n",
       "\n",
       "    .dataframe thead th {\n",
       "        text-align: right;\n",
       "    }\n",
       "</style>\n",
       "<table border=\"1\" class=\"dataframe\">\n",
       "  <thead>\n",
       "    <tr style=\"text-align: right;\">\n",
       "      <th></th>\n",
       "      <th>id</th>\n",
       "      <th>name</th>\n",
       "      <th>symbol</th>\n",
       "      <th>verb</th>\n",
       "      <th>is_call_move</th>\n",
       "      <th>is_bet_move</th>\n",
       "      <th>is_vpip_move</th>\n",
       "    </tr>\n",
       "  </thead>\n",
       "  <tbody>\n",
       "    <tr>\n",
       "      <th>0</th>\n",
       "      <td>1</td>\n",
       "      <td>FOLD</td>\n",
       "      <td>F</td>\n",
       "      <td>folds</td>\n",
       "      <td>False</td>\n",
       "      <td>False</td>\n",
       "      <td>False</td>\n",
       "    </tr>\n",
       "    <tr>\n",
       "      <th>1</th>\n",
       "      <td>2</td>\n",
       "      <td>CHECK</td>\n",
       "      <td>X</td>\n",
       "      <td>checks</td>\n",
       "      <td>True</td>\n",
       "      <td>False</td>\n",
       "      <td>False</td>\n",
       "    </tr>\n",
       "    <tr>\n",
       "      <th>2</th>\n",
       "      <td>3</td>\n",
       "      <td>CALL</td>\n",
       "      <td>C</td>\n",
       "      <td>calls</td>\n",
       "      <td>True</td>\n",
       "      <td>False</td>\n",
       "      <td>True</td>\n",
       "    </tr>\n",
       "    <tr>\n",
       "      <th>3</th>\n",
       "      <td>4</td>\n",
       "      <td>BET</td>\n",
       "      <td>B</td>\n",
       "      <td>bets</td>\n",
       "      <td>False</td>\n",
       "      <td>True</td>\n",
       "      <td>True</td>\n",
       "    </tr>\n",
       "    <tr>\n",
       "      <th>4</th>\n",
       "      <td>5</td>\n",
       "      <td>RAISE</td>\n",
       "      <td>R</td>\n",
       "      <td>raises</td>\n",
       "      <td>False</td>\n",
       "      <td>True</td>\n",
       "      <td>True</td>\n",
       "    </tr>\n",
       "  </tbody>\n",
       "</table>\n",
       "</div>"
      ]
     },
     "execution_count": 6,
     "metadata": {},
     "output_type": "execute_result"
    }
   ],
   "execution_count": 6
  },
  {
   "metadata": {
    "ExecuteTime": {
     "end_time": "2024-10-30T14:33:10.397865Z",
     "start_time": "2024-10-30T14:33:10.385173Z"
    }
   },
   "cell_type": "code",
   "source": "action_moves.name",
   "id": "cfe52a87868205fe",
   "outputs": [
    {
     "data": {
      "text/plain": [
       "0     FOLD\n",
       "1    CHECK\n",
       "2     CALL\n",
       "3      BET\n",
       "4    RAISE\n",
       "Name: name, dtype: category\n",
       "Categories (5, object): ['BET', 'CALL', 'CHECK', 'FOLD', 'RAISE']"
      ]
     },
     "execution_count": 7,
     "metadata": {},
     "output_type": "execute_result"
    }
   ],
   "execution_count": 7
  }
 ],
 "metadata": {
  "kernelspec": {
   "display_name": "Python 3",
   "language": "python",
   "name": "python3"
  },
  "language_info": {
   "codemirror_mode": {
    "name": "ipython",
    "version": 2
   },
   "file_extension": ".py",
   "mimetype": "text/x-python",
   "name": "python",
   "nbconvert_exporter": "python",
   "pygments_lexer": "ipython2",
   "version": "2.7.6"
  }
 },
 "nbformat": 4,
 "nbformat_minor": 5
}
