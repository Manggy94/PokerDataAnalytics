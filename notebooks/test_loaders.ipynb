{
 "cells": [
  {
   "metadata": {
    "ExecuteTime": {
     "end_time": "2024-10-31T15:28:03.987032Z",
     "start_time": "2024-10-31T15:28:03.940215Z"
    }
   },
   "cell_type": "code",
   "source": [
    "from dotenv import load_dotenv\n",
    "load_dotenv()"
   ],
   "id": "58fe71de27c2e030",
   "outputs": [
    {
     "data": {
      "text/plain": [
       "True"
      ]
     },
     "execution_count": 1,
     "metadata": {},
     "output_type": "execute_result"
    }
   ],
   "execution_count": 1
  },
  {
   "metadata": {
    "collapsed": true,
    "ExecuteTime": {
     "end_time": "2024-10-31T15:29:49.643864Z",
     "start_time": "2024-10-31T15:28:04.457133Z"
    }
   },
   "cell_type": "code",
   "source": [
    "from src.loaders.dynamic.player_hand_stats import RawPlayerHandStatsLoader, PlayerHandStatsLoader\n",
    "# from src.loaders.raw.phs import RawHandsLoader\n",
    "loader = PlayerHandStatsLoader()\n",
    "raw_loader = RawPlayerHandStatsLoader()"
   ],
   "id": "initial_id",
   "outputs": [],
   "execution_count": 2
  },
  {
   "metadata": {
    "ExecuteTime": {
     "end_time": "2024-10-31T15:29:50.890742Z",
     "start_time": "2024-10-31T15:29:49.643864Z"
    }
   },
   "cell_type": "code",
   "source": "raw_phs = raw_loader.fit_transform(\"\")",
   "id": "b41075bc872652fa",
   "outputs": [],
   "execution_count": 3
  },
  {
   "metadata": {
    "ExecuteTime": {
     "end_time": "2024-10-31T15:29:51.299748Z",
     "start_time": "2024-10-31T15:29:51.284542Z"
    }
   },
   "cell_type": "code",
   "source": "# raw_phs.info()",
   "id": "29f07e99f2b57cb9",
   "outputs": [],
   "execution_count": 4
  },
  {
   "metadata": {
    "ExecuteTime": {
     "end_time": "2024-10-31T15:31:32.469025Z",
     "start_time": "2024-10-31T15:29:51.316633Z"
    }
   },
   "cell_type": "code",
   "source": [
    "phs = loader.fit_transform(\"\")\n",
    "phs.info()"
   ],
   "id": "b85eb94b27b92dd",
   "outputs": [
    {
     "name": "stdout",
     "output_type": "stream",
     "text": [
      "<class 'pandas.core.frame.DataFrame'>\n",
      "Int64Index: 2216200 entries, 0 to 2216199\n",
      "Columns: 397 entries, id to river_total_bet_amount_bb\n",
      "dtypes: bool(148), category(77), datetime64[ns, UTC](1), float16(37), float32(115), float64(5), int64(1), int8(13)\n",
      "memory usage: 1.8 GB\n"
     ]
    }
   ],
   "execution_count": 5
  },
  {
   "metadata": {
    "ExecuteTime": {
     "end_time": "2024-10-31T15:31:32.704516Z",
     "start_time": "2024-10-31T15:31:32.688890Z"
    }
   },
   "cell_type": "code",
   "source": "# raw_phs",
   "id": "361c1543e6f94912",
   "outputs": [],
   "execution_count": 6
  },
  {
   "metadata": {
    "ExecuteTime": {
     "end_time": "2024-10-31T15:31:32.986145Z",
     "start_time": "2024-10-31T15:31:32.955041Z"
    }
   },
   "cell_type": "code",
   "source": "phs.info()",
   "id": "cba9da77b769d9df",
   "outputs": [
    {
     "name": "stdout",
     "output_type": "stream",
     "text": [
      "<class 'pandas.core.frame.DataFrame'>\n",
      "Int64Index: 2216200 entries, 0 to 2216199\n",
      "Columns: 397 entries, id to river_total_bet_amount_bb\n",
      "dtypes: bool(148), category(77), datetime64[ns, UTC](1), float16(37), float32(115), float64(5), int64(1), int8(13)\n",
      "memory usage: 1.8 GB\n"
     ]
    }
   ],
   "execution_count": 7
  },
  {
   "metadata": {
    "ExecuteTime": {
     "end_time": "2024-10-31T20:04:03.196513Z",
     "start_time": "2024-10-31T20:04:03.092392Z"
    }
   },
   "cell_type": "code",
   "source": "phs.select_dtypes(include='category').river_actions_sequence.isna().sum()",
   "id": "cfe52a87868205fe",
   "outputs": [
    {
     "data": {
      "text/plain": [
       "2047079"
      ]
     },
     "execution_count": 12,
     "metadata": {},
     "output_type": "execute_result"
    }
   ],
   "execution_count": 12
  }
 ],
 "metadata": {
  "kernelspec": {
   "display_name": "Python 3",
   "language": "python",
   "name": "python3"
  },
  "language_info": {
   "codemirror_mode": {
    "name": "ipython",
    "version": 2
   },
   "file_extension": ".py",
   "mimetype": "text/x-python",
   "name": "python",
   "nbconvert_exporter": "python",
   "pygments_lexer": "ipython2",
   "version": "2.7.6"
  }
 },
 "nbformat": 4,
 "nbformat_minor": 5
}
