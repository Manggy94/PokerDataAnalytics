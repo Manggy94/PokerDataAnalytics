{
 "cells": [
  {
   "metadata": {
    "ExecuteTime": {
     "end_time": "2024-10-30T12:36:48.843457Z",
     "start_time": "2024-10-30T12:36:48.811803Z"
    }
   },
   "cell_type": "code",
   "source": [
    "from dotenv import load_dotenv\n",
    "load_dotenv()"
   ],
   "id": "58fe71de27c2e030",
   "outputs": [
    {
     "data": {
      "text/plain": [
       "True"
      ]
     },
     "execution_count": 1,
     "metadata": {},
     "output_type": "execute_result"
    }
   ],
   "execution_count": 1
  },
  {
   "cell_type": "code",
   "id": "initial_id",
   "metadata": {
    "collapsed": true,
    "ExecuteTime": {
     "end_time": "2024-10-30T12:36:50.407802Z",
     "start_time": "2024-10-30T12:36:48.855051Z"
    }
   },
   "source": [
    "from src.loaders.fixed.ranks import RanksLoader\n",
    "from src.loaders.raw.ranks import RawRanksLoader\n",
    "loader = RanksLoader()\n",
    "raw_loader = RawRanksLoader()\n",
    "ranks = loader.fit_transform(\"\")\n",
    "raw_ranks = raw_loader.fit_transform(\"\")"
   ],
   "outputs": [],
   "execution_count": 2
  },
  {
   "metadata": {
    "ExecuteTime": {
     "end_time": "2024-10-30T12:36:50.867310Z",
     "start_time": "2024-10-30T12:36:50.856715Z"
    }
   },
   "cell_type": "code",
   "source": "raw_ranks.info()",
   "id": "29f07e99f2b57cb9",
   "outputs": [
    {
     "name": "stdout",
     "output_type": "stream",
     "text": [
      "<class 'pandas.core.frame.DataFrame'>\n",
      "Int64Index: 13 entries, 12 to 11\n",
      "Data columns (total 6 columns):\n",
      " #   Column       Non-Null Count  Dtype \n",
      "---  ------       --------------  ----- \n",
      " 0   id           13 non-null     int64 \n",
      " 1   name         13 non-null     object\n",
      " 2   symbol       13 non-null     object\n",
      " 3   short_name   13 non-null     object\n",
      " 4   is_broadway  13 non-null     bool  \n",
      " 5   is_face      13 non-null     bool  \n",
      "dtypes: bool(2), int64(1), object(3)\n",
      "memory usage: 546.0+ bytes\n"
     ]
    }
   ],
   "execution_count": 3
  },
  {
   "metadata": {
    "ExecuteTime": {
     "end_time": "2024-10-30T12:36:50.961883Z",
     "start_time": "2024-10-30T12:36:50.930648Z"
    }
   },
   "cell_type": "code",
   "source": "ranks.info()",
   "id": "b85eb94b27b92dd",
   "outputs": [
    {
     "name": "stdout",
     "output_type": "stream",
     "text": [
      "<class 'pandas.core.frame.DataFrame'>\n",
      "Int64Index: 13 entries, 12 to 11\n",
      "Data columns (total 6 columns):\n",
      " #   Column       Non-Null Count  Dtype   \n",
      "---  ------       --------------  -----   \n",
      " 0   id           13 non-null     int64   \n",
      " 1   name         13 non-null     category\n",
      " 2   symbol       13 non-null     category\n",
      " 3   short_name   13 non-null     category\n",
      " 4   is_broadway  13 non-null     bool    \n",
      " 5   is_face      13 non-null     bool    \n",
      "dtypes: bool(2), category(3), int64(1)\n",
      "memory usage: 2.2 KB\n"
     ]
    }
   ],
   "execution_count": 4
  },
  {
   "metadata": {
    "ExecuteTime": {
     "end_time": "2024-10-30T12:38:46.098495Z",
     "start_time": "2024-10-30T12:38:46.083406Z"
    }
   },
   "cell_type": "code",
   "source": "ranks.is_face",
   "id": "aae8e8e2a4ac0245",
   "outputs": [
    {
     "data": {
      "text/plain": [
       "12    False\n",
       "8     False\n",
       "5     False\n",
       "7     False\n",
       "4     False\n",
       "0     False\n",
       "2     False\n",
       "10    False\n",
       "9     False\n",
       "1      True\n",
       "6      True\n",
       "3      True\n",
       "11    False\n",
       "Name: is_face, dtype: bool"
      ]
     },
     "execution_count": 9,
     "metadata": {},
     "output_type": "execute_result"
    }
   ],
   "execution_count": 9
  }
 ],
 "metadata": {
  "kernelspec": {
   "display_name": "Python 3",
   "language": "python",
   "name": "python3"
  },
  "language_info": {
   "codemirror_mode": {
    "name": "ipython",
    "version": 2
   },
   "file_extension": ".py",
   "mimetype": "text/x-python",
   "name": "python",
   "nbconvert_exporter": "python",
   "pygments_lexer": "ipython2",
   "version": "2.7.6"
  }
 },
 "nbformat": 4,
 "nbformat_minor": 5
}
