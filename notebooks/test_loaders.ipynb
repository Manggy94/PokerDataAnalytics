{
 "cells": [
  {
   "metadata": {
    "ExecuteTime": {
     "end_time": "2024-10-30T14:58:50.464196Z",
     "start_time": "2024-10-30T14:58:50.432416Z"
    }
   },
   "cell_type": "code",
   "source": [
    "from dotenv import load_dotenv\n",
    "load_dotenv()"
   ],
   "id": "58fe71de27c2e030",
   "outputs": [
    {
     "data": {
      "text/plain": [
       "True"
      ]
     },
     "execution_count": 1,
     "metadata": {},
     "output_type": "execute_result"
    }
   ],
   "execution_count": 1
  },
  {
   "cell_type": "code",
   "id": "initial_id",
   "metadata": {
    "collapsed": true,
    "ExecuteTime": {
     "end_time": "2024-10-30T14:58:51.856427Z",
     "start_time": "2024-10-30T14:58:50.464196Z"
    }
   },
   "source": [
    "from src.loaders.fixed.streets import StreetsLoader\n",
    "from src.loaders.raw.streets import RawStreetsLoader\n",
    "loader = StreetsLoader()\n",
    "raw_loader = RawStreetsLoader()\n",
    "streets = loader.fit_transform(\"\")\n",
    "raw_streets = raw_loader.fit_transform(\"\")"
   ],
   "outputs": [],
   "execution_count": 2
  },
  {
   "metadata": {
    "ExecuteTime": {
     "end_time": "2024-10-30T14:58:52.256623Z",
     "start_time": "2024-10-30T14:58:52.241122Z"
    }
   },
   "cell_type": "code",
   "source": "raw_streets.info()",
   "id": "29f07e99f2b57cb9",
   "outputs": [
    {
     "name": "stdout",
     "output_type": "stream",
     "text": [
      "<class 'pandas.core.frame.DataFrame'>\n",
      "Int64Index: 5 entries, 0 to 4\n",
      "Data columns (total 6 columns):\n",
      " #   Column        Non-Null Count  Dtype \n",
      "---  ------        --------------  ----- \n",
      " 0   id            5 non-null      int64 \n",
      " 1   name          5 non-null      object\n",
      " 2   short_name    5 non-null      object\n",
      " 3   parsing_name  5 non-null      object\n",
      " 4   symbol        5 non-null      object\n",
      " 5   is_preflop    5 non-null      bool  \n",
      "dtypes: bool(1), int64(1), object(4)\n",
      "memory usage: 245.0+ bytes\n"
     ]
    }
   ],
   "execution_count": 3
  },
  {
   "metadata": {
    "ExecuteTime": {
     "end_time": "2024-10-30T14:58:52.444515Z",
     "start_time": "2024-10-30T14:58:52.428906Z"
    }
   },
   "cell_type": "code",
   "source": "streets.info()",
   "id": "b85eb94b27b92dd",
   "outputs": [
    {
     "name": "stdout",
     "output_type": "stream",
     "text": [
      "<class 'pandas.core.frame.DataFrame'>\n",
      "Int64Index: 5 entries, 0 to 4\n",
      "Data columns (total 6 columns):\n",
      " #   Column        Non-Null Count  Dtype   \n",
      "---  ------        --------------  -----   \n",
      " 0   id            5 non-null      uint8   \n",
      " 1   name          5 non-null      category\n",
      " 2   short_name    5 non-null      category\n",
      " 3   parsing_name  5 non-null      category\n",
      " 4   symbol        5 non-null      category\n",
      " 5   is_preflop    5 non-null      bool    \n",
      "dtypes: bool(1), category(4), uint8(1)\n",
      "memory usage: 918.0 bytes\n"
     ]
    }
   ],
   "execution_count": 4
  },
  {
   "metadata": {
    "ExecuteTime": {
     "end_time": "2024-10-30T14:58:52.538263Z",
     "start_time": "2024-10-30T14:58:52.522639Z"
    }
   },
   "cell_type": "code",
   "source": "raw_streets",
   "id": "361c1543e6f94912",
   "outputs": [
    {
     "data": {
      "text/plain": [
       "   id      name short_name parsing_name symbol  is_preflop\n",
       "0   1   PREFLOP         PF      PreFlop     PF        True\n",
       "1   2      FLOP          F         Flop      F       False\n",
       "2   3      TURN          T         Turn      T       False\n",
       "3   4     RIVER          R        River      R       False\n",
       "4   5  SHOWDOWN         SD     ShowDown     SD       False"
      ],
      "text/html": [
       "<div>\n",
       "<style scoped>\n",
       "    .dataframe tbody tr th:only-of-type {\n",
       "        vertical-align: middle;\n",
       "    }\n",
       "\n",
       "    .dataframe tbody tr th {\n",
       "        vertical-align: top;\n",
       "    }\n",
       "\n",
       "    .dataframe thead th {\n",
       "        text-align: right;\n",
       "    }\n",
       "</style>\n",
       "<table border=\"1\" class=\"dataframe\">\n",
       "  <thead>\n",
       "    <tr style=\"text-align: right;\">\n",
       "      <th></th>\n",
       "      <th>id</th>\n",
       "      <th>name</th>\n",
       "      <th>short_name</th>\n",
       "      <th>parsing_name</th>\n",
       "      <th>symbol</th>\n",
       "      <th>is_preflop</th>\n",
       "    </tr>\n",
       "  </thead>\n",
       "  <tbody>\n",
       "    <tr>\n",
       "      <th>0</th>\n",
       "      <td>1</td>\n",
       "      <td>PREFLOP</td>\n",
       "      <td>PF</td>\n",
       "      <td>PreFlop</td>\n",
       "      <td>PF</td>\n",
       "      <td>True</td>\n",
       "    </tr>\n",
       "    <tr>\n",
       "      <th>1</th>\n",
       "      <td>2</td>\n",
       "      <td>FLOP</td>\n",
       "      <td>F</td>\n",
       "      <td>Flop</td>\n",
       "      <td>F</td>\n",
       "      <td>False</td>\n",
       "    </tr>\n",
       "    <tr>\n",
       "      <th>2</th>\n",
       "      <td>3</td>\n",
       "      <td>TURN</td>\n",
       "      <td>T</td>\n",
       "      <td>Turn</td>\n",
       "      <td>T</td>\n",
       "      <td>False</td>\n",
       "    </tr>\n",
       "    <tr>\n",
       "      <th>3</th>\n",
       "      <td>4</td>\n",
       "      <td>RIVER</td>\n",
       "      <td>R</td>\n",
       "      <td>River</td>\n",
       "      <td>R</td>\n",
       "      <td>False</td>\n",
       "    </tr>\n",
       "    <tr>\n",
       "      <th>4</th>\n",
       "      <td>5</td>\n",
       "      <td>SHOWDOWN</td>\n",
       "      <td>SD</td>\n",
       "      <td>ShowDown</td>\n",
       "      <td>SD</td>\n",
       "      <td>False</td>\n",
       "    </tr>\n",
       "  </tbody>\n",
       "</table>\n",
       "</div>"
      ]
     },
     "execution_count": 5,
     "metadata": {},
     "output_type": "execute_result"
    }
   ],
   "execution_count": 5
  },
  {
   "metadata": {
    "ExecuteTime": {
     "end_time": "2024-10-30T14:58:52.600984Z",
     "start_time": "2024-10-30T14:58:52.585428Z"
    }
   },
   "cell_type": "code",
   "source": "streets",
   "id": "cba9da77b769d9df",
   "outputs": [
    {
     "data": {
      "text/plain": [
       "   id      name short_name parsing_name symbol  is_preflop\n",
       "0   1   PREFLOP         PF      PreFlop     PF        True\n",
       "1   2      FLOP          F         Flop      F       False\n",
       "2   3      TURN          T         Turn      T       False\n",
       "3   4     RIVER          R        River      R       False\n",
       "4   5  SHOWDOWN         SD     ShowDown     SD       False"
      ],
      "text/html": [
       "<div>\n",
       "<style scoped>\n",
       "    .dataframe tbody tr th:only-of-type {\n",
       "        vertical-align: middle;\n",
       "    }\n",
       "\n",
       "    .dataframe tbody tr th {\n",
       "        vertical-align: top;\n",
       "    }\n",
       "\n",
       "    .dataframe thead th {\n",
       "        text-align: right;\n",
       "    }\n",
       "</style>\n",
       "<table border=\"1\" class=\"dataframe\">\n",
       "  <thead>\n",
       "    <tr style=\"text-align: right;\">\n",
       "      <th></th>\n",
       "      <th>id</th>\n",
       "      <th>name</th>\n",
       "      <th>short_name</th>\n",
       "      <th>parsing_name</th>\n",
       "      <th>symbol</th>\n",
       "      <th>is_preflop</th>\n",
       "    </tr>\n",
       "  </thead>\n",
       "  <tbody>\n",
       "    <tr>\n",
       "      <th>0</th>\n",
       "      <td>1</td>\n",
       "      <td>PREFLOP</td>\n",
       "      <td>PF</td>\n",
       "      <td>PreFlop</td>\n",
       "      <td>PF</td>\n",
       "      <td>True</td>\n",
       "    </tr>\n",
       "    <tr>\n",
       "      <th>1</th>\n",
       "      <td>2</td>\n",
       "      <td>FLOP</td>\n",
       "      <td>F</td>\n",
       "      <td>Flop</td>\n",
       "      <td>F</td>\n",
       "      <td>False</td>\n",
       "    </tr>\n",
       "    <tr>\n",
       "      <th>2</th>\n",
       "      <td>3</td>\n",
       "      <td>TURN</td>\n",
       "      <td>T</td>\n",
       "      <td>Turn</td>\n",
       "      <td>T</td>\n",
       "      <td>False</td>\n",
       "    </tr>\n",
       "    <tr>\n",
       "      <th>3</th>\n",
       "      <td>4</td>\n",
       "      <td>RIVER</td>\n",
       "      <td>R</td>\n",
       "      <td>River</td>\n",
       "      <td>R</td>\n",
       "      <td>False</td>\n",
       "    </tr>\n",
       "    <tr>\n",
       "      <th>4</th>\n",
       "      <td>5</td>\n",
       "      <td>SHOWDOWN</td>\n",
       "      <td>SD</td>\n",
       "      <td>ShowDown</td>\n",
       "      <td>SD</td>\n",
       "      <td>False</td>\n",
       "    </tr>\n",
       "  </tbody>\n",
       "</table>\n",
       "</div>"
      ]
     },
     "execution_count": 6,
     "metadata": {},
     "output_type": "execute_result"
    }
   ],
   "execution_count": 6
  },
  {
   "metadata": {
    "ExecuteTime": {
     "end_time": "2024-10-30T14:58:52.665431Z",
     "start_time": "2024-10-30T14:58:52.649838Z"
    }
   },
   "cell_type": "code",
   "source": "",
   "id": "cfe52a87868205fe",
   "outputs": [],
   "execution_count": null
  }
 ],
 "metadata": {
  "kernelspec": {
   "display_name": "Python 3",
   "language": "python",
   "name": "python3"
  },
  "language_info": {
   "codemirror_mode": {
    "name": "ipython",
    "version": 2
   },
   "file_extension": ".py",
   "mimetype": "text/x-python",
   "name": "python",
   "nbconvert_exporter": "python",
   "pygments_lexer": "ipython2",
   "version": "2.7.6"
  }
 },
 "nbformat": 4,
 "nbformat_minor": 5
}
