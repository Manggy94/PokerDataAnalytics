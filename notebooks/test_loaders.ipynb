{
 "cells": [
  {
   "metadata": {
    "ExecuteTime": {
     "end_time": "2024-10-30T12:54:12.834164Z",
     "start_time": "2024-10-30T12:54:12.810159Z"
    }
   },
   "cell_type": "code",
   "source": [
    "from dotenv import load_dotenv\n",
    "load_dotenv()"
   ],
   "id": "58fe71de27c2e030",
   "outputs": [
    {
     "data": {
      "text/plain": [
       "True"
      ]
     },
     "execution_count": 1,
     "metadata": {},
     "output_type": "execute_result"
    }
   ],
   "execution_count": 1
  },
  {
   "cell_type": "code",
   "id": "initial_id",
   "metadata": {
    "collapsed": true,
    "ExecuteTime": {
     "end_time": "2024-10-30T12:54:14.431994Z",
     "start_time": "2024-10-30T12:54:13.097728Z"
    }
   },
   "source": [
    "from src.loaders.fixed.suits import SuitsLoader\n",
    "from src.loaders.raw.suits import RawSuitsLoader\n",
    "loader = SuitsLoader()\n",
    "raw_loader = RawSuitsLoader()\n",
    "suits = loader.fit_transform(\"\")\n",
    "raw_suits = raw_loader.fit_transform(\"\")"
   ],
   "outputs": [],
   "execution_count": 2
  },
  {
   "metadata": {
    "ExecuteTime": {
     "end_time": "2024-10-30T12:54:14.463374Z",
     "start_time": "2024-10-30T12:54:14.431994Z"
    }
   },
   "cell_type": "code",
   "source": "raw_suits.info()",
   "id": "29f07e99f2b57cb9",
   "outputs": [
    {
     "name": "stdout",
     "output_type": "stream",
     "text": [
      "<class 'pandas.core.frame.DataFrame'>\n",
      "Int64Index: 4 entries, 1 to 2\n",
      "Data columns (total 4 columns):\n",
      " #   Column      Non-Null Count  Dtype \n",
      "---  ------      --------------  ----- \n",
      " 0   id          4 non-null      int64 \n",
      " 1   name        4 non-null      object\n",
      " 2   symbol      4 non-null      object\n",
      " 3   short_name  4 non-null      object\n",
      "dtypes: int64(1), object(3)\n",
      "memory usage: 160.0+ bytes\n"
     ]
    }
   ],
   "execution_count": 3
  },
  {
   "metadata": {
    "ExecuteTime": {
     "end_time": "2024-10-30T12:54:14.713339Z",
     "start_time": "2024-10-30T12:54:14.697893Z"
    }
   },
   "cell_type": "code",
   "source": "suits.info()",
   "id": "b85eb94b27b92dd",
   "outputs": [
    {
     "name": "stdout",
     "output_type": "stream",
     "text": [
      "<class 'pandas.core.frame.DataFrame'>\n",
      "Int64Index: 4 entries, 1 to 2\n",
      "Data columns (total 4 columns):\n",
      " #   Column      Non-Null Count  Dtype   \n",
      "---  ------      --------------  -----   \n",
      " 0   id          4 non-null      int8    \n",
      " 1   name        4 non-null      category\n",
      " 2   symbol      4 non-null      category\n",
      " 3   short_name  4 non-null      category\n",
      "dtypes: category(3), int8(1)\n",
      "memory usage: 660.0 bytes\n"
     ]
    }
   ],
   "execution_count": 4
  },
  {
   "metadata": {
    "ExecuteTime": {
     "end_time": "2024-10-30T12:54:14.817333Z",
     "start_time": "2024-10-30T12:54:14.801707Z"
    }
   },
   "cell_type": "code",
   "source": "raw_suits",
   "id": "361c1543e6f94912",
   "outputs": [
    {
     "data": {
      "text/plain": [
       "   id      name symbol short_name\n",
       "1   1     CLUBS      ♣          c\n",
       "0   2  DIAMONDS      ♦          d\n",
       "3   3    HEARTS      ♥          h\n",
       "2   4    SPADES      ♠          s"
      ],
      "text/html": [
       "<div>\n",
       "<style scoped>\n",
       "    .dataframe tbody tr th:only-of-type {\n",
       "        vertical-align: middle;\n",
       "    }\n",
       "\n",
       "    .dataframe tbody tr th {\n",
       "        vertical-align: top;\n",
       "    }\n",
       "\n",
       "    .dataframe thead th {\n",
       "        text-align: right;\n",
       "    }\n",
       "</style>\n",
       "<table border=\"1\" class=\"dataframe\">\n",
       "  <thead>\n",
       "    <tr style=\"text-align: right;\">\n",
       "      <th></th>\n",
       "      <th>id</th>\n",
       "      <th>name</th>\n",
       "      <th>symbol</th>\n",
       "      <th>short_name</th>\n",
       "    </tr>\n",
       "  </thead>\n",
       "  <tbody>\n",
       "    <tr>\n",
       "      <th>1</th>\n",
       "      <td>1</td>\n",
       "      <td>CLUBS</td>\n",
       "      <td>♣</td>\n",
       "      <td>c</td>\n",
       "    </tr>\n",
       "    <tr>\n",
       "      <th>0</th>\n",
       "      <td>2</td>\n",
       "      <td>DIAMONDS</td>\n",
       "      <td>♦</td>\n",
       "      <td>d</td>\n",
       "    </tr>\n",
       "    <tr>\n",
       "      <th>3</th>\n",
       "      <td>3</td>\n",
       "      <td>HEARTS</td>\n",
       "      <td>♥</td>\n",
       "      <td>h</td>\n",
       "    </tr>\n",
       "    <tr>\n",
       "      <th>2</th>\n",
       "      <td>4</td>\n",
       "      <td>SPADES</td>\n",
       "      <td>♠</td>\n",
       "      <td>s</td>\n",
       "    </tr>\n",
       "  </tbody>\n",
       "</table>\n",
       "</div>"
      ]
     },
     "execution_count": 5,
     "metadata": {},
     "output_type": "execute_result"
    }
   ],
   "execution_count": 5
  },
  {
   "metadata": {
    "ExecuteTime": {
     "end_time": "2024-10-30T12:54:14.880204Z",
     "start_time": "2024-10-30T12:54:14.864568Z"
    }
   },
   "cell_type": "code",
   "source": "suits",
   "id": "76f8adf6af652dbd",
   "outputs": [
    {
     "data": {
      "text/plain": [
       "   id      name symbol short_name\n",
       "1   1     CLUBS      ♣          c\n",
       "0   2  DIAMONDS      ♦          d\n",
       "3   3    HEARTS      ♥          h\n",
       "2   4    SPADES      ♠          s"
      ],
      "text/html": [
       "<div>\n",
       "<style scoped>\n",
       "    .dataframe tbody tr th:only-of-type {\n",
       "        vertical-align: middle;\n",
       "    }\n",
       "\n",
       "    .dataframe tbody tr th {\n",
       "        vertical-align: top;\n",
       "    }\n",
       "\n",
       "    .dataframe thead th {\n",
       "        text-align: right;\n",
       "    }\n",
       "</style>\n",
       "<table border=\"1\" class=\"dataframe\">\n",
       "  <thead>\n",
       "    <tr style=\"text-align: right;\">\n",
       "      <th></th>\n",
       "      <th>id</th>\n",
       "      <th>name</th>\n",
       "      <th>symbol</th>\n",
       "      <th>short_name</th>\n",
       "    </tr>\n",
       "  </thead>\n",
       "  <tbody>\n",
       "    <tr>\n",
       "      <th>1</th>\n",
       "      <td>1</td>\n",
       "      <td>CLUBS</td>\n",
       "      <td>♣</td>\n",
       "      <td>c</td>\n",
       "    </tr>\n",
       "    <tr>\n",
       "      <th>0</th>\n",
       "      <td>2</td>\n",
       "      <td>DIAMONDS</td>\n",
       "      <td>♦</td>\n",
       "      <td>d</td>\n",
       "    </tr>\n",
       "    <tr>\n",
       "      <th>3</th>\n",
       "      <td>3</td>\n",
       "      <td>HEARTS</td>\n",
       "      <td>♥</td>\n",
       "      <td>h</td>\n",
       "    </tr>\n",
       "    <tr>\n",
       "      <th>2</th>\n",
       "      <td>4</td>\n",
       "      <td>SPADES</td>\n",
       "      <td>♠</td>\n",
       "      <td>s</td>\n",
       "    </tr>\n",
       "  </tbody>\n",
       "</table>\n",
       "</div>"
      ]
     },
     "execution_count": 6,
     "metadata": {},
     "output_type": "execute_result"
    }
   ],
   "execution_count": 6
  }
 ],
 "metadata": {
  "kernelspec": {
   "display_name": "Python 3",
   "language": "python",
   "name": "python3"
  },
  "language_info": {
   "codemirror_mode": {
    "name": "ipython",
    "version": 2
   },
   "file_extension": ".py",
   "mimetype": "text/x-python",
   "name": "python",
   "nbconvert_exporter": "python",
   "pygments_lexer": "ipython2",
   "version": "2.7.6"
  }
 },
 "nbformat": 4,
 "nbformat_minor": 5
}
