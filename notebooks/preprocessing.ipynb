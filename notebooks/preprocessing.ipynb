{
 "cells": [
  {
   "cell_type": "code",
   "id": "initial_id",
   "metadata": {
    "collapsed": true
   },
   "source": [
    "from dotenv import load_dotenv\n",
    "load_dotenv()"
   ],
   "outputs": [],
   "execution_count": null
  },
  {
   "metadata": {},
   "cell_type": "code",
   "source": [
    "from src.data.loader import DataLoader\n",
    "\n",
    "data_loader = DataLoader()\n",
    "data = data_loader.fast_load_showdown_hands()\n",
    "print(data.info())\n",
    "data.head()"
   ],
   "id": "fe1ce58601256d7c",
   "outputs": [],
   "execution_count": null
  },
  {
   "metadata": {},
   "cell_type": "code",
   "source": [
    "from src.pipelines.preprocessing.targets import TargetPreprocessor\n",
    "target_preprocessor = TargetPreprocessor(target_column=\"player_combo_hand\")\n",
    "target_preprocessor.fit(data)\n",
    "y = target_preprocessor.transform(data)\n",
    "print(y.info())\n",
    "y.head()\n"
   ],
   "id": "debd8098114be872",
   "outputs": [],
   "execution_count": null
  },
  {
   "metadata": {},
   "cell_type": "code",
   "source": [
    "from src.pipelines.preprocessing.models.random_forest import RandomForestFeaturesPreprocessor\n",
    "features_preprocessor = RandomForestFeaturesPreprocessor()\n",
    "X = features_preprocessor.fit_transform(data)\n",
    "print(X.info())\n",
    "X.head()"
   ],
   "id": "d4ad63aa16081fe3",
   "outputs": [],
   "execution_count": null
  }
 ],
 "metadata": {
  "kernelspec": {
   "display_name": "Python 3",
   "language": "python",
   "name": "python3"
  },
  "language_info": {
   "codemirror_mode": {
    "name": "ipython",
    "version": 2
   },
   "file_extension": ".py",
   "mimetype": "text/x-python",
   "name": "python",
   "nbconvert_exporter": "python",
   "pygments_lexer": "ipython2",
   "version": "2.7.6"
  }
 },
 "nbformat": 4,
 "nbformat_minor": 5
}
